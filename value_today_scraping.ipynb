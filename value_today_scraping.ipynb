{
  "nbformat": 4,
  "nbformat_minor": 0,
  "metadata": {
    "colab": {
      "provenance": [],
      "authorship_tag": "ABX9TyPbkZI+0gaY83B1srIGsFPj",
      "include_colab_link": true
    },
    "kernelspec": {
      "name": "python3",
      "display_name": "Python 3"
    },
    "language_info": {
      "name": "python"
    }
  },
  "cells": [
    {
      "cell_type": "markdown",
      "metadata": {
        "id": "view-in-github",
        "colab_type": "text"
      },
      "source": [
        "<a href=\"https://colab.research.google.com/github/abhikashyap/projects/blob/main/value_today_scraping.ipynb\" target=\"_parent\"><img src=\"https://colab.research.google.com/assets/colab-badge.svg\" alt=\"Open In Colab\"/></a>"
      ]
    },
    {
      "cell_type": "markdown",
      "source": [
        "# Extracting html file from github"
      ],
      "metadata": {
        "id": "hBJh2Xt7s2GP"
      }
    },
    {
      "cell_type": "code",
      "execution_count": 2,
      "metadata": {
        "id": "calrFPD7esYo"
      },
      "outputs": [],
      "source": [
        "import requests\n",
        "from bs4 import BeautifulSoup"
      ]
    },
    {
      "cell_type": "code",
      "source": [
        "response=requests.get(\"https://www.value.today/headquarters/india?title=&field_headquarters_of_company_target_id&field_company_category_primary_target_id&field_company_website_uri=&field_market_value_jan072022_value=&page=0\")"
      ],
      "metadata": {
        "id": "SF0P8qG90FEt"
      },
      "execution_count": 3,
      "outputs": []
    },
    {
      "cell_type": "code",
      "source": [
        "len(response.text)"
      ],
      "metadata": {
        "colab": {
          "base_uri": "https://localhost:8080/"
        },
        "id": "dfDHb5SzecI9",
        "outputId": "9a25c935-963b-4aaa-e2ca-e85597416bb6"
      },
      "execution_count": 4,
      "outputs": [
        {
          "output_type": "execute_result",
          "data": {
            "text/plain": [
              "170955"
            ]
          },
          "metadata": {},
          "execution_count": 4
        }
      ]
    },
    {
      "cell_type": "code",
      "source": [
        "page_content=response.text"
      ],
      "metadata": {
        "id": "hG-dQHYxdYSE"
      },
      "execution_count": 5,
      "outputs": []
    },
    {
      "cell_type": "markdown",
      "source": [
        "## Converting to html with beautifulsoup"
      ],
      "metadata": {
        "id": "dscKc34IfSze"
      }
    },
    {
      "cell_type": "code",
      "source": [
        "soup=BeautifulSoup(page_content,\"html.parser\")"
      ],
      "metadata": {
        "id": "9WezJH-ldfWA"
      },
      "execution_count": 6,
      "outputs": []
    },
    {
      "cell_type": "markdown",
      "source": [
        "# extracting data\n"
      ],
      "metadata": {
        "id": "qdzWxutufeX2"
      }
    },
    {
      "cell_type": "markdown",
      "source": [
        "## finding company name "
      ],
      "metadata": {
        "id": "44zfxWSZ4Oe9"
      }
    },
    {
      "cell_type": "code",
      "source": [
        "company_tag=soup.find_all('div',class_=\"field field--name-node-title field--type-ds field--label-hidden field--item\")[0].text.strip()"
      ],
      "metadata": {
        "id": "w69EU6hcd0bh"
      },
      "execution_count": 7,
      "outputs": []
    },
    {
      "cell_type": "code",
      "source": [
        "company_tag"
      ],
      "metadata": {
        "colab": {
          "base_uri": "https://localhost:8080/",
          "height": 35
        },
        "id": "93gcGZ5Z2Yxn",
        "outputId": "f1e3b82f-6cb3-4d1c-a9d8-056c66f04d42"
      },
      "execution_count": 8,
      "outputs": [
        {
          "output_type": "execute_result",
          "data": {
            "text/plain": [
              "'TATA GROUP'"
            ],
            "application/vnd.google.colaboratory.intrinsic+json": {
              "type": "string"
            }
          },
          "metadata": {},
          "execution_count": 8
        }
      ]
    },
    {
      "cell_type": "code",
      "source": [
        "company_tag=soup.find_all('div',class_=\"field field--name-node-title field--type-ds field--label-hidden field--item\")\n",
        "for i in range(len(company_tag)):\n",
        "  print(company_tag[i].text.strip())\n"
      ],
      "metadata": {
        "colab": {
          "base_uri": "https://localhost:8080/"
        },
        "id": "hBI3Yhqj2j0Q",
        "outputId": "5042f23f-d2b6-480c-8912-9e1284cf1f4e"
      },
      "execution_count": 9,
      "outputs": [
        {
          "output_type": "stream",
          "name": "stdout",
          "text": [
            "TATA GROUP\n",
            "RELIANCE INDUSTRIES\n",
            "TATA CONSULTANCY SERVICES (TCS)\n",
            "HDFC BANK\n",
            "INFOSYS\n",
            "LIFE INSURANCE CORPORATION OF INDIA\n",
            "RELIANCE JIO\n",
            "HINDUSTAN UNILEVER\n",
            "ICICI BANK\n",
            "HDFC\n"
          ]
        }
      ]
    },
    {
      "cell_type": "markdown",
      "source": [
        "## Finding world rank "
      ],
      "metadata": {
        "id": "SS30DuxTFzk5"
      }
    },
    {
      "cell_type": "code",
      "source": [
        "class_=[\"clearfix col-sm-6 field field--name-field-world-rank-jan072022 field--type-integer field--label-above\",\n",
        "        \"clearfix col-sm-6 field field--name-field-market-value-jan072022 field--type-float field--label-above\",\n",
        "        \"clearfix col-sm-6 field field--name-field-world-rank-sep-01-2021- field--type-integer field--label-above\",\n",
        "        \"clearfix col-sm-6 field field--name-field-market-cap-aug-01-2021- field--type-float field--label-above\",\n",
        "        \"clearfix col-sm-6 field field--name-field-world-rank-jan012021 field--type-integer field--label-above\",\n",
        "        \"clearfix col-sm-6 field field--name-field-market-value-jan012021 field--type-float field--label-above\",\n",
        "        \"clearfix col-sm-6 field field--name-field-world-rank-jan-2020 field--type-integer field--label-above\",\n",
        "        \"clearfix col-sm-6 field field--name-field-market-value-jan-2020 field--type-float field--label-above\",\n",
        "        \"clearfix col-sm-12 field field--name-field-headquarters-of-company field--type-entity-reference field--label-above\",\n",
        "        \"clearfix col-sm-12 field field--name-field-isin-code field--type-string field--label-above\",\n",
        "        \"clearfix col-sm-12 category-button field field--name-field-company-category-primary field--type-entity-reference field--label-above\",\n",
        "        \"clearfix col-sm-12 field field--name-field-employee-count field--type-integer field--label-inline\",\n",
        "        \"clearfix col-sm-12 field field--name-field-employee-count-as-on-date field--type-string field--label-inline\",\n",
        "        \"clearfix col-sm-12 field field--name-field-stock-category-lc field--type-entity-reference field--label-inline\",\n",
        "        \"clearfix col-sm-12 field field--name-field-chairman field--type-entity-reference field--label-above\",\n",
        "        \"clearfix col-sm-12 field field--name-field-ceo field--type-entity-reference field--label-above\",\n",
        "        \"clearfix col-sm-12 field field--name-field-stock-exchange-lc field--type-entity-reference field--label-inline\",\n",
        "        \"clearfix col-sm-12 field field--name-field-company-website field--type-link field--label-above\",\n",
        "        \"clearfix col-sm-12 field field--name-field-wikipedia field--type-link field--label-hidden field--item\",\n",
        "        \"clearfix col-sm-12 field field--name-field-yahoo field--type-link field--label-hidden field--item\",\n",
        "        \"clearfix col-sm-12 field field--name-field-twitter field--type-link field--label-hidden field--item\"\n",
        "        \"clearfix col-sm-12 field field--name-field-facebook field--type-link field--label-hidden field--item\",\n",
        "        \"clearfix col-sm-12 field field--name-field-company-rank-in-country-in field--type-string field--label-inline\",\n",
        "        \"clearfix col-sm-12 field field--name-field-revenue-in-usd field--type-float field--label-inline\",\n",
        "        \"clearfix col-sm-12 field field--name-field-net-income-in-usd field--type-float field--label-inline\",\n",
        "        \"clearfix col-sm-12 field field--name-field-revenue-as-on-year field--type-string field--label-inline\",\n",
        "        \"clearfix col-sm-12 field field--name-body field--type-text-with-summary field--label-above\",\n",
        "        \"clearfix col-sm-12 field field--name-field-company-sub-category- field--type-entity-reference field--label-above\"\n",
        "\n",
        "        ]"
      ],
      "metadata": {
        "id": "YiMSh8KFU5aX"
      },
      "execution_count": 10,
      "outputs": []
    },
    {
      "cell_type": "code",
      "source": [
        "soup.find(\"div\",class_ =\"clearfix group-header\")"
      ],
      "metadata": {
        "colab": {
          "base_uri": "https://localhost:8080/"
        },
        "id": "5FkxX11CK6wO",
        "outputId": "a51e36a9-0428-4082-9ae2-a1377c9c668e"
      },
      "execution_count": 11,
      "outputs": [
        {
          "output_type": "execute_result",
          "data": {
            "text/plain": [
              "<div class=\"clearfix group-header\">\n",
              "<div class=\"field field--name-node-title field--type-ds field--label-hidden field--item\"><h2 class=\"text-primary\">\n",
              "<a href=\"/company/tata-group\" hreflang=\"en\">TATA GROUP</a>\n",
              "</h2>\n",
              "</div>\n",
              "<div class=\"clearfix col-sm-6 field field--name-field-world-rank-jan072022 field--type-integer field--label-above\">\n",
              "<div class=\"field--label\">World Rank (Jan-07-2022)</div>\n",
              "<div class=\"field--item\">44</div>\n",
              "</div>\n",
              "<div class=\"clearfix col-sm-6 field field--name-field-world-rank-sep-01-2021- field--type-integer field--label-above\">\n",
              "<div class=\"field--label\">World Rank (Sep-01-2021)</div>\n",
              "<div class=\"field--item\">44</div>\n",
              "</div>\n",
              "<div class=\"clearfix col-sm-6 field field--name-field-market-cap-aug-01-2021- field--type-float field--label-above\">\n",
              "<div class=\"field--label\">Market Cap (Sep-01-2021)</div>\n",
              "<div class=\"field--item\" content=\"242\">242.000 Billion USD</div>\n",
              "</div>\n",
              "</div>"
            ]
          },
          "metadata": {},
          "execution_count": 11
        }
      ]
    },
    {
      "cell_type": "code",
      "source": [
        "# finding company name\n",
        "company_names = []\n",
        "company=soup.find(\"div\",class_ =\"clearfix group-header\")\n",
        "company_name = find_tag(company,\"div\",\"field field--name-node-title field--type-ds field--label-hidden field--item\").strip()\n",
        "company_names.append(company_name)"
      ],
      "metadata": {
        "id": "fG2e_N4p_rSF"
      },
      "execution_count": 19,
      "outputs": []
    },
    {
      "cell_type": "code",
      "source": [
        "company_names"
      ],
      "metadata": {
        "colab": {
          "base_uri": "https://localhost:8080/"
        },
        "id": "B5Ua8SOVsR97",
        "outputId": "3d6cf9f0-9934-4bb2-caa5-d9b4d78798e1"
      },
      "execution_count": 20,
      "outputs": [
        {
          "output_type": "execute_result",
          "data": {
            "text/plain": [
              "['TATA GROUP']"
            ]
          },
          "metadata": {},
          "execution_count": 20
        }
      ]
    },
    {
      "cell_type": "code",
      "source": [
        "# get company names\n",
        "company_names = []\n",
        "for i in range(len(soups)):\n",
        "  companies=soups[i].find_all(\"div\",class_ =\"clearfix group-header\")\n",
        "  for company in companies:\n",
        "    company_name = find_tag(company,\"div\",\"field field--name-node-title field--type-ds field--label-hidden field--item\").strip()\n",
        "    company_names.append(company_name)\n"
      ],
      "metadata": {
        "colab": {
          "base_uri": "https://localhost:8080/"
        },
        "id": "kcylp6-Nsn-v",
        "outputId": "83ccfa0c-9ef0-4cd0-c1aa-256a31b023f8"
      },
      "execution_count": 39,
      "outputs": [
        {
          "output_type": "execute_result",
          "data": {
            "text/plain": [
              "1000"
            ]
          },
          "metadata": {},
          "execution_count": 39
        }
      ]
    },
    {
      "cell_type": "code",
      "source": [
        "# world rank 2022\n",
        "world_rank_2022 = []\n",
        "for i in range(len(soups)):\n",
        "  companies=soups[i].find_all(\"div\",\"clearfix col-sm-6 field field--name-field-world-rank-jan072022 field--type-integer field--label-above\")\n",
        "  for company in companies:\n",
        "    company_name = find_tag(company,\"div\",\"field--item\")\n",
        "    world_rank_2022.append(company_name)\n",
        "\n"
      ],
      "metadata": {
        "id": "wNLgyAV0znmn"
      },
      "execution_count": 62,
      "outputs": []
    },
    {
      "cell_type": "code",
      "source": [
        "# world rank 2022\n",
        "world_rank_2022 = []\n",
        "for i in range(len(soups)):\n",
        "  a=soups[i].find_all(\"div\",\"clearfix col-sm-6 field field--name-field-world-rank-jan072022 field--type-integer field--label-above\")\n",
        "  for b in a:\n",
        "    c = find_tag(b,\"div\",\"field--item\")\n",
        "    world_rank_2022.append(c)\n"
      ],
      "metadata": {
        "id": "9zmElMaQ4ZZ0"
      },
      "execution_count": 64,
      "outputs": []
    },
    {
      "cell_type": "code",
      "source": [
        "len(world_rank_2022)"
      ],
      "metadata": {
        "colab": {
          "base_uri": "https://localhost:8080/"
        },
        "id": "9AYVhd0L49sC",
        "outputId": "a75769b8-af61-4dc4-b0cf-a4a307541f2b"
      },
      "execution_count": 66,
      "outputs": [
        {
          "output_type": "execute_result",
          "data": {
            "text/plain": [
              "1000"
            ]
          },
          "metadata": {},
          "execution_count": 66
        }
      ]
    },
    {
      "cell_type": "code",
      "source": [
        "# function to extract information with help of 2 class 1st input is used to make it unique \n",
        "# and second to find value\n",
        "extract(\"div\",\n",
        "def extract(tag_a,class_a,tag_b,class_b):\n",
        "  out = []\n",
        "  for i in range(len(soups)):\n",
        "    a=soups[i].find_all(tag_a,class_a)\n",
        "    for b in a:\n",
        "      c = find_tag(b,tag_b,class_b)\n",
        "      out.append(c)\n",
        "  return out"
      ],
      "metadata": {
        "id": "koeWdptT5Exd"
      },
      "execution_count": 73,
      "outputs": []
    },
    {
      "cell_type": "code",
      "source": [],
      "metadata": {
        "id": "wPv4EMou6oPv"
      },
      "execution_count": null,
      "outputs": []
    },
    {
      "cell_type": "code",
      "source": [
        "# function to extract information with help of 2 class 1st input is used to make it unique and second to find value\n",
        "world_rank_2022=extract(\"div\",\n",
        "        \"clearfix col-sm-6 field field--name-field-world-rank-jan072022 field--type-integer field--label-above\",\n",
        "        \"div\",\n",
        "        \"field--item\")"
      ],
      "metadata": {
        "id": "h7EoVkAZ5EuG"
      },
      "execution_count": 76,
      "outputs": []
    },
    {
      "cell_type": "code",
      "source": [
        "len(world_rank_2022)"
      ],
      "metadata": {
        "colab": {
          "base_uri": "https://localhost:8080/"
        },
        "id": "S8J4p2bV5Eq6",
        "outputId": "bc3f925f-a4d4-403b-aace-54b6884479cd"
      },
      "execution_count": 77,
      "outputs": [
        {
          "output_type": "execute_result",
          "data": {
            "text/plain": [
              "1000"
            ]
          },
          "metadata": {},
          "execution_count": 77
        }
      ]
    },
    {
      "cell_type": "code",
      "source": [],
      "metadata": {
        "id": "p-rEwIKD5Enk"
      },
      "execution_count": null,
      "outputs": []
    },
    {
      "cell_type": "code",
      "source": [
        "#pattern for reference\n",
        "# get World Rank (Jan-07-2022)\n",
        "world_ranks=soups[0].find(\"div\",\"clearfix col-sm-6 field field--name-field-world-rank-jan072022 field--type-integer field--label-above\")\n",
        "world_rank=find_tag(world_ranks,\"div\",\"field--item\")\n",
        "world_rank"
      ],
      "metadata": {
        "colab": {
          "base_uri": "https://localhost:8080/",
          "height": 35
        },
        "id": "WlO6LPOLy5-K",
        "outputId": "83ec5a14-cf85-4e1e-91b8-0616eea67527"
      },
      "execution_count": 55,
      "outputs": [
        {
          "output_type": "execute_result",
          "data": {
            "text/plain": [
              "'44'"
            ],
            "application/vnd.google.colaboratory.intrinsic+json": {
              "type": "string"
            }
          },
          "metadata": {},
          "execution_count": 55
        }
      ]
    },
    {
      "cell_type": "code",
      "source": [],
      "metadata": {
        "id": "wKwTyrPXy56_"
      },
      "execution_count": null,
      "outputs": []
    },
    {
      "cell_type": "code",
      "source": [],
      "metadata": {
        "id": "F-V7N7Jqy538"
      },
      "execution_count": null,
      "outputs": []
    },
    {
      "cell_type": "code",
      "source": [],
      "metadata": {
        "id": "2d4GtMZOy50k"
      },
      "execution_count": null,
      "outputs": []
    },
    {
      "cell_type": "code",
      "source": [
        "soups=[]\n",
        "i=0\n",
        "response=requests.get(f\"https://www.value.today/headquarters/india?title=&field_headquarters_of_company_target_id&field_company_category_primary_target_id&field_company_website_uri=&field_market_value_jan072022_value=&page={i}\")\n",
        "page_content=response.text\n",
        "soup=BeautifulSoup(page_content,\"html.parser\")\n",
        "while i != -1:\n",
        "  if soup.find_all(\"li\", {\"class\": \"pager__item pager__item--next\"}):\n",
        "    response=requests.get(f\"https://www.value.today/headquarters/india?title=&field_headquarters_of_company_target_id&field_company_category_primary_target_id&field_company_website_uri=&field_market_value_jan072022_value=&page={i}\")\n",
        "    page_content=response.text\n",
        "    soup=BeautifulSoup(page_content,\"html.parser\")\n",
        "    soups.append(soup)\n",
        "\n",
        "    print(f\"https://www.value.today/headquarters/india?title=&field_headquarters_of_company_target_id&field_company_category_primary_target_id&field_company_website_uri=&field_market_value_jan072022_value=&page={i}\")\n",
        "    i+=1\n",
        "  else:\n",
        "    i = -1"
      ],
      "metadata": {
        "colab": {
          "base_uri": "https://localhost:8080/"
        },
        "id": "ERUyrMKxtBM4",
        "outputId": "f252d96d-a60f-42c8-8c08-4b9b7a4d204f"
      },
      "execution_count": 35,
      "outputs": [
        {
          "output_type": "stream",
          "name": "stdout",
          "text": [
            "https://www.value.today/headquarters/india?title=&field_headquarters_of_company_target_id&field_company_category_primary_target_id&field_company_website_uri=&field_market_value_jan072022_value=&page=0\n",
            "https://www.value.today/headquarters/india?title=&field_headquarters_of_company_target_id&field_company_category_primary_target_id&field_company_website_uri=&field_market_value_jan072022_value=&page=1\n",
            "https://www.value.today/headquarters/india?title=&field_headquarters_of_company_target_id&field_company_category_primary_target_id&field_company_website_uri=&field_market_value_jan072022_value=&page=2\n",
            "https://www.value.today/headquarters/india?title=&field_headquarters_of_company_target_id&field_company_category_primary_target_id&field_company_website_uri=&field_market_value_jan072022_value=&page=3\n",
            "https://www.value.today/headquarters/india?title=&field_headquarters_of_company_target_id&field_company_category_primary_target_id&field_company_website_uri=&field_market_value_jan072022_value=&page=4\n",
            "https://www.value.today/headquarters/india?title=&field_headquarters_of_company_target_id&field_company_category_primary_target_id&field_company_website_uri=&field_market_value_jan072022_value=&page=5\n",
            "https://www.value.today/headquarters/india?title=&field_headquarters_of_company_target_id&field_company_category_primary_target_id&field_company_website_uri=&field_market_value_jan072022_value=&page=6\n",
            "https://www.value.today/headquarters/india?title=&field_headquarters_of_company_target_id&field_company_category_primary_target_id&field_company_website_uri=&field_market_value_jan072022_value=&page=7\n",
            "https://www.value.today/headquarters/india?title=&field_headquarters_of_company_target_id&field_company_category_primary_target_id&field_company_website_uri=&field_market_value_jan072022_value=&page=8\n",
            "https://www.value.today/headquarters/india?title=&field_headquarters_of_company_target_id&field_company_category_primary_target_id&field_company_website_uri=&field_market_value_jan072022_value=&page=9\n",
            "https://www.value.today/headquarters/india?title=&field_headquarters_of_company_target_id&field_company_category_primary_target_id&field_company_website_uri=&field_market_value_jan072022_value=&page=10\n",
            "https://www.value.today/headquarters/india?title=&field_headquarters_of_company_target_id&field_company_category_primary_target_id&field_company_website_uri=&field_market_value_jan072022_value=&page=11\n",
            "https://www.value.today/headquarters/india?title=&field_headquarters_of_company_target_id&field_company_category_primary_target_id&field_company_website_uri=&field_market_value_jan072022_value=&page=12\n",
            "https://www.value.today/headquarters/india?title=&field_headquarters_of_company_target_id&field_company_category_primary_target_id&field_company_website_uri=&field_market_value_jan072022_value=&page=13\n",
            "https://www.value.today/headquarters/india?title=&field_headquarters_of_company_target_id&field_company_category_primary_target_id&field_company_website_uri=&field_market_value_jan072022_value=&page=14\n",
            "https://www.value.today/headquarters/india?title=&field_headquarters_of_company_target_id&field_company_category_primary_target_id&field_company_website_uri=&field_market_value_jan072022_value=&page=15\n",
            "https://www.value.today/headquarters/india?title=&field_headquarters_of_company_target_id&field_company_category_primary_target_id&field_company_website_uri=&field_market_value_jan072022_value=&page=16\n",
            "https://www.value.today/headquarters/india?title=&field_headquarters_of_company_target_id&field_company_category_primary_target_id&field_company_website_uri=&field_market_value_jan072022_value=&page=17\n",
            "https://www.value.today/headquarters/india?title=&field_headquarters_of_company_target_id&field_company_category_primary_target_id&field_company_website_uri=&field_market_value_jan072022_value=&page=18\n",
            "https://www.value.today/headquarters/india?title=&field_headquarters_of_company_target_id&field_company_category_primary_target_id&field_company_website_uri=&field_market_value_jan072022_value=&page=19\n",
            "https://www.value.today/headquarters/india?title=&field_headquarters_of_company_target_id&field_company_category_primary_target_id&field_company_website_uri=&field_market_value_jan072022_value=&page=20\n",
            "https://www.value.today/headquarters/india?title=&field_headquarters_of_company_target_id&field_company_category_primary_target_id&field_company_website_uri=&field_market_value_jan072022_value=&page=21\n",
            "https://www.value.today/headquarters/india?title=&field_headquarters_of_company_target_id&field_company_category_primary_target_id&field_company_website_uri=&field_market_value_jan072022_value=&page=22\n",
            "https://www.value.today/headquarters/india?title=&field_headquarters_of_company_target_id&field_company_category_primary_target_id&field_company_website_uri=&field_market_value_jan072022_value=&page=23\n",
            "https://www.value.today/headquarters/india?title=&field_headquarters_of_company_target_id&field_company_category_primary_target_id&field_company_website_uri=&field_market_value_jan072022_value=&page=24\n",
            "https://www.value.today/headquarters/india?title=&field_headquarters_of_company_target_id&field_company_category_primary_target_id&field_company_website_uri=&field_market_value_jan072022_value=&page=25\n",
            "https://www.value.today/headquarters/india?title=&field_headquarters_of_company_target_id&field_company_category_primary_target_id&field_company_website_uri=&field_market_value_jan072022_value=&page=26\n",
            "https://www.value.today/headquarters/india?title=&field_headquarters_of_company_target_id&field_company_category_primary_target_id&field_company_website_uri=&field_market_value_jan072022_value=&page=27\n",
            "https://www.value.today/headquarters/india?title=&field_headquarters_of_company_target_id&field_company_category_primary_target_id&field_company_website_uri=&field_market_value_jan072022_value=&page=28\n",
            "https://www.value.today/headquarters/india?title=&field_headquarters_of_company_target_id&field_company_category_primary_target_id&field_company_website_uri=&field_market_value_jan072022_value=&page=29\n",
            "https://www.value.today/headquarters/india?title=&field_headquarters_of_company_target_id&field_company_category_primary_target_id&field_company_website_uri=&field_market_value_jan072022_value=&page=30\n",
            "https://www.value.today/headquarters/india?title=&field_headquarters_of_company_target_id&field_company_category_primary_target_id&field_company_website_uri=&field_market_value_jan072022_value=&page=31\n",
            "https://www.value.today/headquarters/india?title=&field_headquarters_of_company_target_id&field_company_category_primary_target_id&field_company_website_uri=&field_market_value_jan072022_value=&page=32\n",
            "https://www.value.today/headquarters/india?title=&field_headquarters_of_company_target_id&field_company_category_primary_target_id&field_company_website_uri=&field_market_value_jan072022_value=&page=33\n",
            "https://www.value.today/headquarters/india?title=&field_headquarters_of_company_target_id&field_company_category_primary_target_id&field_company_website_uri=&field_market_value_jan072022_value=&page=34\n",
            "https://www.value.today/headquarters/india?title=&field_headquarters_of_company_target_id&field_company_category_primary_target_id&field_company_website_uri=&field_market_value_jan072022_value=&page=35\n",
            "https://www.value.today/headquarters/india?title=&field_headquarters_of_company_target_id&field_company_category_primary_target_id&field_company_website_uri=&field_market_value_jan072022_value=&page=36\n",
            "https://www.value.today/headquarters/india?title=&field_headquarters_of_company_target_id&field_company_category_primary_target_id&field_company_website_uri=&field_market_value_jan072022_value=&page=37\n",
            "https://www.value.today/headquarters/india?title=&field_headquarters_of_company_target_id&field_company_category_primary_target_id&field_company_website_uri=&field_market_value_jan072022_value=&page=38\n",
            "https://www.value.today/headquarters/india?title=&field_headquarters_of_company_target_id&field_company_category_primary_target_id&field_company_website_uri=&field_market_value_jan072022_value=&page=39\n",
            "https://www.value.today/headquarters/india?title=&field_headquarters_of_company_target_id&field_company_category_primary_target_id&field_company_website_uri=&field_market_value_jan072022_value=&page=40\n",
            "https://www.value.today/headquarters/india?title=&field_headquarters_of_company_target_id&field_company_category_primary_target_id&field_company_website_uri=&field_market_value_jan072022_value=&page=41\n",
            "https://www.value.today/headquarters/india?title=&field_headquarters_of_company_target_id&field_company_category_primary_target_id&field_company_website_uri=&field_market_value_jan072022_value=&page=42\n",
            "https://www.value.today/headquarters/india?title=&field_headquarters_of_company_target_id&field_company_category_primary_target_id&field_company_website_uri=&field_market_value_jan072022_value=&page=43\n",
            "https://www.value.today/headquarters/india?title=&field_headquarters_of_company_target_id&field_company_category_primary_target_id&field_company_website_uri=&field_market_value_jan072022_value=&page=44\n",
            "https://www.value.today/headquarters/india?title=&field_headquarters_of_company_target_id&field_company_category_primary_target_id&field_company_website_uri=&field_market_value_jan072022_value=&page=45\n",
            "https://www.value.today/headquarters/india?title=&field_headquarters_of_company_target_id&field_company_category_primary_target_id&field_company_website_uri=&field_market_value_jan072022_value=&page=46\n",
            "https://www.value.today/headquarters/india?title=&field_headquarters_of_company_target_id&field_company_category_primary_target_id&field_company_website_uri=&field_market_value_jan072022_value=&page=47\n",
            "https://www.value.today/headquarters/india?title=&field_headquarters_of_company_target_id&field_company_category_primary_target_id&field_company_website_uri=&field_market_value_jan072022_value=&page=48\n",
            "https://www.value.today/headquarters/india?title=&field_headquarters_of_company_target_id&field_company_category_primary_target_id&field_company_website_uri=&field_market_value_jan072022_value=&page=49\n",
            "https://www.value.today/headquarters/india?title=&field_headquarters_of_company_target_id&field_company_category_primary_target_id&field_company_website_uri=&field_market_value_jan072022_value=&page=50\n",
            "https://www.value.today/headquarters/india?title=&field_headquarters_of_company_target_id&field_company_category_primary_target_id&field_company_website_uri=&field_market_value_jan072022_value=&page=51\n",
            "https://www.value.today/headquarters/india?title=&field_headquarters_of_company_target_id&field_company_category_primary_target_id&field_company_website_uri=&field_market_value_jan072022_value=&page=52\n",
            "https://www.value.today/headquarters/india?title=&field_headquarters_of_company_target_id&field_company_category_primary_target_id&field_company_website_uri=&field_market_value_jan072022_value=&page=53\n",
            "https://www.value.today/headquarters/india?title=&field_headquarters_of_company_target_id&field_company_category_primary_target_id&field_company_website_uri=&field_market_value_jan072022_value=&page=54\n",
            "https://www.value.today/headquarters/india?title=&field_headquarters_of_company_target_id&field_company_category_primary_target_id&field_company_website_uri=&field_market_value_jan072022_value=&page=55\n",
            "https://www.value.today/headquarters/india?title=&field_headquarters_of_company_target_id&field_company_category_primary_target_id&field_company_website_uri=&field_market_value_jan072022_value=&page=56\n",
            "https://www.value.today/headquarters/india?title=&field_headquarters_of_company_target_id&field_company_category_primary_target_id&field_company_website_uri=&field_market_value_jan072022_value=&page=57\n",
            "https://www.value.today/headquarters/india?title=&field_headquarters_of_company_target_id&field_company_category_primary_target_id&field_company_website_uri=&field_market_value_jan072022_value=&page=58\n",
            "https://www.value.today/headquarters/india?title=&field_headquarters_of_company_target_id&field_company_category_primary_target_id&field_company_website_uri=&field_market_value_jan072022_value=&page=59\n",
            "https://www.value.today/headquarters/india?title=&field_headquarters_of_company_target_id&field_company_category_primary_target_id&field_company_website_uri=&field_market_value_jan072022_value=&page=60\n",
            "https://www.value.today/headquarters/india?title=&field_headquarters_of_company_target_id&field_company_category_primary_target_id&field_company_website_uri=&field_market_value_jan072022_value=&page=61\n",
            "https://www.value.today/headquarters/india?title=&field_headquarters_of_company_target_id&field_company_category_primary_target_id&field_company_website_uri=&field_market_value_jan072022_value=&page=62\n",
            "https://www.value.today/headquarters/india?title=&field_headquarters_of_company_target_id&field_company_category_primary_target_id&field_company_website_uri=&field_market_value_jan072022_value=&page=63\n",
            "https://www.value.today/headquarters/india?title=&field_headquarters_of_company_target_id&field_company_category_primary_target_id&field_company_website_uri=&field_market_value_jan072022_value=&page=64\n",
            "https://www.value.today/headquarters/india?title=&field_headquarters_of_company_target_id&field_company_category_primary_target_id&field_company_website_uri=&field_market_value_jan072022_value=&page=65\n",
            "https://www.value.today/headquarters/india?title=&field_headquarters_of_company_target_id&field_company_category_primary_target_id&field_company_website_uri=&field_market_value_jan072022_value=&page=66\n",
            "https://www.value.today/headquarters/india?title=&field_headquarters_of_company_target_id&field_company_category_primary_target_id&field_company_website_uri=&field_market_value_jan072022_value=&page=67\n",
            "https://www.value.today/headquarters/india?title=&field_headquarters_of_company_target_id&field_company_category_primary_target_id&field_company_website_uri=&field_market_value_jan072022_value=&page=68\n",
            "https://www.value.today/headquarters/india?title=&field_headquarters_of_company_target_id&field_company_category_primary_target_id&field_company_website_uri=&field_market_value_jan072022_value=&page=69\n",
            "https://www.value.today/headquarters/india?title=&field_headquarters_of_company_target_id&field_company_category_primary_target_id&field_company_website_uri=&field_market_value_jan072022_value=&page=70\n",
            "https://www.value.today/headquarters/india?title=&field_headquarters_of_company_target_id&field_company_category_primary_target_id&field_company_website_uri=&field_market_value_jan072022_value=&page=71\n",
            "https://www.value.today/headquarters/india?title=&field_headquarters_of_company_target_id&field_company_category_primary_target_id&field_company_website_uri=&field_market_value_jan072022_value=&page=72\n",
            "https://www.value.today/headquarters/india?title=&field_headquarters_of_company_target_id&field_company_category_primary_target_id&field_company_website_uri=&field_market_value_jan072022_value=&page=73\n",
            "https://www.value.today/headquarters/india?title=&field_headquarters_of_company_target_id&field_company_category_primary_target_id&field_company_website_uri=&field_market_value_jan072022_value=&page=74\n",
            "https://www.value.today/headquarters/india?title=&field_headquarters_of_company_target_id&field_company_category_primary_target_id&field_company_website_uri=&field_market_value_jan072022_value=&page=75\n",
            "https://www.value.today/headquarters/india?title=&field_headquarters_of_company_target_id&field_company_category_primary_target_id&field_company_website_uri=&field_market_value_jan072022_value=&page=76\n",
            "https://www.value.today/headquarters/india?title=&field_headquarters_of_company_target_id&field_company_category_primary_target_id&field_company_website_uri=&field_market_value_jan072022_value=&page=77\n",
            "https://www.value.today/headquarters/india?title=&field_headquarters_of_company_target_id&field_company_category_primary_target_id&field_company_website_uri=&field_market_value_jan072022_value=&page=78\n",
            "https://www.value.today/headquarters/india?title=&field_headquarters_of_company_target_id&field_company_category_primary_target_id&field_company_website_uri=&field_market_value_jan072022_value=&page=79\n",
            "https://www.value.today/headquarters/india?title=&field_headquarters_of_company_target_id&field_company_category_primary_target_id&field_company_website_uri=&field_market_value_jan072022_value=&page=80\n",
            "https://www.value.today/headquarters/india?title=&field_headquarters_of_company_target_id&field_company_category_primary_target_id&field_company_website_uri=&field_market_value_jan072022_value=&page=81\n",
            "https://www.value.today/headquarters/india?title=&field_headquarters_of_company_target_id&field_company_category_primary_target_id&field_company_website_uri=&field_market_value_jan072022_value=&page=82\n",
            "https://www.value.today/headquarters/india?title=&field_headquarters_of_company_target_id&field_company_category_primary_target_id&field_company_website_uri=&field_market_value_jan072022_value=&page=83\n",
            "https://www.value.today/headquarters/india?title=&field_headquarters_of_company_target_id&field_company_category_primary_target_id&field_company_website_uri=&field_market_value_jan072022_value=&page=84\n",
            "https://www.value.today/headquarters/india?title=&field_headquarters_of_company_target_id&field_company_category_primary_target_id&field_company_website_uri=&field_market_value_jan072022_value=&page=85\n",
            "https://www.value.today/headquarters/india?title=&field_headquarters_of_company_target_id&field_company_category_primary_target_id&field_company_website_uri=&field_market_value_jan072022_value=&page=86\n",
            "https://www.value.today/headquarters/india?title=&field_headquarters_of_company_target_id&field_company_category_primary_target_id&field_company_website_uri=&field_market_value_jan072022_value=&page=87\n",
            "https://www.value.today/headquarters/india?title=&field_headquarters_of_company_target_id&field_company_category_primary_target_id&field_company_website_uri=&field_market_value_jan072022_value=&page=88\n",
            "https://www.value.today/headquarters/india?title=&field_headquarters_of_company_target_id&field_company_category_primary_target_id&field_company_website_uri=&field_market_value_jan072022_value=&page=89\n",
            "https://www.value.today/headquarters/india?title=&field_headquarters_of_company_target_id&field_company_category_primary_target_id&field_company_website_uri=&field_market_value_jan072022_value=&page=90\n",
            "https://www.value.today/headquarters/india?title=&field_headquarters_of_company_target_id&field_company_category_primary_target_id&field_company_website_uri=&field_market_value_jan072022_value=&page=91\n",
            "https://www.value.today/headquarters/india?title=&field_headquarters_of_company_target_id&field_company_category_primary_target_id&field_company_website_uri=&field_market_value_jan072022_value=&page=92\n",
            "https://www.value.today/headquarters/india?title=&field_headquarters_of_company_target_id&field_company_category_primary_target_id&field_company_website_uri=&field_market_value_jan072022_value=&page=93\n",
            "https://www.value.today/headquarters/india?title=&field_headquarters_of_company_target_id&field_company_category_primary_target_id&field_company_website_uri=&field_market_value_jan072022_value=&page=94\n",
            "https://www.value.today/headquarters/india?title=&field_headquarters_of_company_target_id&field_company_category_primary_target_id&field_company_website_uri=&field_market_value_jan072022_value=&page=95\n",
            "https://www.value.today/headquarters/india?title=&field_headquarters_of_company_target_id&field_company_category_primary_target_id&field_company_website_uri=&field_market_value_jan072022_value=&page=96\n",
            "https://www.value.today/headquarters/india?title=&field_headquarters_of_company_target_id&field_company_category_primary_target_id&field_company_website_uri=&field_market_value_jan072022_value=&page=97\n",
            "https://www.value.today/headquarters/india?title=&field_headquarters_of_company_target_id&field_company_category_primary_target_id&field_company_website_uri=&field_market_value_jan072022_value=&page=98\n",
            "https://www.value.today/headquarters/india?title=&field_headquarters_of_company_target_id&field_company_category_primary_target_id&field_company_website_uri=&field_market_value_jan072022_value=&page=99\n"
          ]
        }
      ]
    },
    {
      "cell_type": "code",
      "source": [],
      "metadata": {
        "colab": {
          "base_uri": "https://localhost:8080/"
        },
        "id": "MAuYEd3_tBJf",
        "outputId": "9123fdec-15f8-48ac-8e99-b36f9ac3d038"
      },
      "execution_count": 37,
      "outputs": [
        {
          "output_type": "execute_result",
          "data": {
            "text/plain": [
              "100"
            ]
          },
          "metadata": {},
          "execution_count": 37
        }
      ]
    },
    {
      "cell_type": "code",
      "source": [],
      "metadata": {
        "id": "su3p7eMotBGF"
      },
      "execution_count": null,
      "outputs": []
    },
    {
      "cell_type": "code",
      "source": [],
      "metadata": {
        "id": "FXiMiQYTtBC4"
      },
      "execution_count": null,
      "outputs": []
    },
    {
      "cell_type": "code",
      "source": [],
      "metadata": {
        "id": "P4t4Z8XWtA_j"
      },
      "execution_count": null,
      "outputs": []
    },
    {
      "cell_type": "code",
      "source": [],
      "metadata": {
        "id": "tf0tVdl8tA8Z"
      },
      "execution_count": null,
      "outputs": []
    },
    {
      "cell_type": "code",
      "source": [],
      "metadata": {
        "id": "cqFeR9DnsxaN"
      },
      "execution_count": null,
      "outputs": []
    },
    {
      "cell_type": "code",
      "source": [
        "world_rank_on_market_value_name=find_tag(\"div\",\"field--label\")\n",
        "world_rank_on_market_value=find_tag(\"div\",\"field--item\")\n",
        "print(company_name,world_rank_on_market_value_name,world_rank_on_market_value)"
      ],
      "metadata": {
        "id": "p9ouQohvriTn"
      },
      "execution_count": null,
      "outputs": []
    },
    {
      "cell_type": "code",
      "source": [
        "company=soup.find(\"li\",class_ =\"row well clearfix\")\n",
        "group_header = company.find(\"div\",class_ =\"clearfix group-header\")\n",
        "company_name_soup =group_header.find(\"div\",class_ =\"field field--name-node-title field--type-ds field--label-hidden field--item\")\n",
        "company_name = find_tag(company_name_soup,\"h2\",\"text-primary\").strip()\n",
        "world_rank_on_market_value_name=find_tag(group_header,\"div\",\"clearfix col-sm-6 field field--name-field-world-rank-jan072022 field--type-integer field--label-above\").split().strip()\n"
      ],
      "metadata": {
        "colab": {
          "base_uri": "https://localhost:8080/",
          "height": 235
        },
        "id": "1C26SVogMadl",
        "outputId": "34ce25e1-2d14-47f4-c1e6-6358f4a71c65"
      },
      "execution_count": 401,
      "outputs": [
        {
          "output_type": "error",
          "ename": "AttributeError",
          "evalue": "ignored",
          "traceback": [
            "\u001b[0;31m---------------------------------------------------------------------------\u001b[0m",
            "\u001b[0;31mAttributeError\u001b[0m                            Traceback (most recent call last)",
            "\u001b[0;32m<ipython-input-401-ce2fbb6b676b>\u001b[0m in \u001b[0;36m<module>\u001b[0;34m\u001b[0m\n\u001b[1;32m      3\u001b[0m \u001b[0mcompany_name_soup\u001b[0m \u001b[0;34m=\u001b[0m\u001b[0mgroup_header\u001b[0m\u001b[0;34m.\u001b[0m\u001b[0mfind\u001b[0m\u001b[0;34m(\u001b[0m\u001b[0;34m\"div\"\u001b[0m\u001b[0;34m,\u001b[0m\u001b[0mclass_\u001b[0m \u001b[0;34m=\u001b[0m\u001b[0;34m\"field field--name-node-title field--type-ds field--label-hidden field--item\"\u001b[0m\u001b[0;34m)\u001b[0m\u001b[0;34m\u001b[0m\u001b[0;34m\u001b[0m\u001b[0m\n\u001b[1;32m      4\u001b[0m \u001b[0mcompany_name\u001b[0m \u001b[0;34m=\u001b[0m \u001b[0mfind_tag\u001b[0m\u001b[0;34m(\u001b[0m\u001b[0mcompany_name_soup\u001b[0m\u001b[0;34m,\u001b[0m\u001b[0;34m\"h2\"\u001b[0m\u001b[0;34m,\u001b[0m\u001b[0;34m\"text-primary\"\u001b[0m\u001b[0;34m)\u001b[0m\u001b[0;34m.\u001b[0m\u001b[0mstrip\u001b[0m\u001b[0;34m(\u001b[0m\u001b[0;34m)\u001b[0m\u001b[0;34m\u001b[0m\u001b[0;34m\u001b[0m\u001b[0m\n\u001b[0;32m----> 5\u001b[0;31m \u001b[0mworld_rank_on_market_value_name\u001b[0m\u001b[0;34m=\u001b[0m\u001b[0mfind_tag\u001b[0m\u001b[0;34m(\u001b[0m\u001b[0mgroup_header\u001b[0m\u001b[0;34m,\u001b[0m\u001b[0;34m\"div\"\u001b[0m\u001b[0;34m,\u001b[0m\u001b[0;34m\"clearfix col-sm-6 field field--name-field-world-rank-jan072022 field--type-integer field--label-above\"\u001b[0m\u001b[0;34m)\u001b[0m\u001b[0;34m.\u001b[0m\u001b[0msplit\u001b[0m\u001b[0;34m(\u001b[0m\u001b[0;34m)\u001b[0m\u001b[0;34m.\u001b[0m\u001b[0mstrip\u001b[0m\u001b[0;34m(\u001b[0m\u001b[0;34m)\u001b[0m\u001b[0;34m\u001b[0m\u001b[0;34m\u001b[0m\u001b[0m\n\u001b[0m",
            "\u001b[0;31mAttributeError\u001b[0m: 'list' object has no attribute 'strip'"
          ]
        }
      ]
    },
    {
      "cell_type": "code",
      "source": [
        "world_rank_on_market_value_soup"
      ],
      "metadata": {
        "colab": {
          "base_uri": "https://localhost:8080/",
          "height": 35
        },
        "id": "EPgryyyeMaam",
        "outputId": "d2906259-e49b-4c4c-b7a5-a615b16a953d"
      },
      "execution_count": 400,
      "outputs": [
        {
          "output_type": "execute_result",
          "data": {
            "text/plain": [
              "'\\nWorld Rank (Jan-07-2022)\\n44\\n'"
            ],
            "application/vnd.google.colaboratory.intrinsic+json": {
              "type": "string"
            }
          },
          "metadata": {},
          "execution_count": 400
        }
      ]
    },
    {
      "cell_type": "markdown",
      "source": [
        "extract each element seperated with with individual function"
      ],
      "metadata": {
        "id": "vVnhNwjYVdev"
      }
    },
    {
      "cell_type": "markdown",
      "source": [
        "try looping with each child class by getting classname and tags \n",
        "make soup and extract individually\n"
      ],
      "metadata": {
        "id": "HxSPWBI-V_QK"
      }
    },
    {
      "cell_type": "code",
      "source": [
        "group_header = company.find(\"div\",class_ =\"clearfix group-header\")\n",
        "\n",
        "for child in group_header.children:\n",
        "    for i in child:\n",
        "      print(type(\"i\"))\n",
        "    \n"
      ],
      "metadata": {
        "colab": {
          "base_uri": "https://localhost:8080/"
        },
        "id": "mJOrlfxiV-gl",
        "outputId": "ec9304e2-3e24-4677-fd27-157fcb2c00b0"
      },
      "execution_count": 421,
      "outputs": [
        {
          "output_type": "stream",
          "name": "stdout",
          "text": [
            "<class 'str'>\n",
            "<class 'str'>\n",
            "<class 'str'>\n",
            "<class 'str'>\n",
            "<class 'str'>\n",
            "<class 'str'>\n",
            "<class 'str'>\n",
            "<class 'str'>\n",
            "<class 'str'>\n",
            "<class 'str'>\n",
            "<class 'str'>\n",
            "<class 'str'>\n",
            "<class 'str'>\n",
            "<class 'str'>\n",
            "<class 'str'>\n",
            "<class 'str'>\n",
            "<class 'str'>\n",
            "<class 'str'>\n",
            "<class 'str'>\n",
            "<class 'str'>\n",
            "<class 'str'>\n",
            "<class 'str'>\n"
          ]
        }
      ]
    },
    {
      "cell_type": "code",
      "source": [
        "extract each element seperated"
      ],
      "metadata": {
        "id": "nL-y0PUzVXj4"
      },
      "execution_count": null,
      "outputs": []
    },
    {
      "cell_type": "code",
      "source": [],
      "metadata": {
        "colab": {
          "base_uri": "https://localhost:8080/",
          "height": 130
        },
        "id": "GOsQ6t9uMaXm",
        "outputId": "60ae9522-09ba-4b18-d705-8096f4bc2f8a"
      },
      "execution_count": 418,
      "outputs": [
        {
          "output_type": "error",
          "ename": "SyntaxError",
          "evalue": "ignored",
          "traceback": [
            "\u001b[0;36m  File \u001b[0;32m\"<ipython-input-418-62875e0e0d00>\"\u001b[0;36m, line \u001b[0;32m1\u001b[0m\n\u001b[0;31m    a=\"<div class=\"field--item\">44</div>\"\u001b[0m\n\u001b[0m                       ^\u001b[0m\n\u001b[0;31mSyntaxError\u001b[0m\u001b[0;31m:\u001b[0m invalid syntax\n"
          ]
        }
      ]
    },
    {
      "cell_type": "code",
      "source": [],
      "metadata": {
        "id": "7ongOW1jMaUh"
      },
      "execution_count": null,
      "outputs": []
    },
    {
      "cell_type": "code",
      "source": [],
      "metadata": {
        "id": "YjN1AYfQMaRm"
      },
      "execution_count": null,
      "outputs": []
    },
    {
      "cell_type": "code",
      "source": [],
      "metadata": {
        "id": "t4I-r3-oMaPg"
      },
      "execution_count": null,
      "outputs": []
    },
    {
      "cell_type": "code",
      "source": [],
      "metadata": {
        "id": "S4MztMBcMaL8"
      },
      "execution_count": null,
      "outputs": []
    },
    {
      "cell_type": "code",
      "source": [],
      "metadata": {
        "id": "oHaWHfS-MaIo"
      },
      "execution_count": null,
      "outputs": []
    },
    {
      "cell_type": "code",
      "source": [],
      "metadata": {
        "id": "vwgfYApsMaFD"
      },
      "execution_count": null,
      "outputs": []
    },
    {
      "cell_type": "markdown",
      "source": [
        "## check for tag presence"
      ],
      "metadata": {
        "id": "QhoLL_oOCJph"
      }
    },
    {
      "cell_type": "code",
      "source": [
        "def find_tag(file,tag,class_= None):\n",
        "  if file.find(tag,class_):\n",
        "    return file.find(tag,class_).text\n",
        "  else:\n",
        "    return \"null\""
      ],
      "metadata": {
        "id": "VxGM4syqCJEB"
      },
      "execution_count": 14,
      "outputs": []
    },
    {
      "cell_type": "code",
      "source": [
        "\n",
        "  "
      ],
      "metadata": {
        "id": "K00GF3fhMn18"
      },
      "execution_count": 374,
      "outputs": []
    },
    {
      "cell_type": "code",
      "source": [],
      "metadata": {
        "colab": {
          "base_uri": "https://localhost:8080/"
        },
        "id": "9Bb9WHGpIROj",
        "outputId": "34896c6c-e965-4090-fe23-b97b4730259a"
      },
      "execution_count": 364,
      "outputs": [
        {
          "output_type": "stream",
          "name": "stdout",
          "text": [
            "w\n"
          ]
        }
      ]
    },
    {
      "cell_type": "code",
      "source": [],
      "metadata": {
        "id": "nvZZwNAvIRLZ"
      },
      "execution_count": null,
      "outputs": []
    },
    {
      "cell_type": "code",
      "source": [],
      "metadata": {
        "id": "FN3IxYaLIRIf"
      },
      "execution_count": null,
      "outputs": []
    },
    {
      "cell_type": "code",
      "source": [],
      "metadata": {
        "id": "LzzYzk_9IREF"
      },
      "execution_count": null,
      "outputs": []
    },
    {
      "cell_type": "code",
      "source": [],
      "metadata": {
        "id": "BnONLLD0IQ4n"
      },
      "execution_count": null,
      "outputs": []
    },
    {
      "cell_type": "code",
      "source": [],
      "metadata": {
        "id": "IxD2MlFV_rMa"
      },
      "execution_count": 348,
      "outputs": []
    },
    {
      "cell_type": "code",
      "source": [],
      "metadata": {
        "id": "B_Rs0zKa_rJZ"
      },
      "execution_count": null,
      "outputs": []
    },
    {
      "cell_type": "code",
      "source": [],
      "metadata": {
        "id": "juSqZeIpZQbF"
      },
      "execution_count": 266,
      "outputs": []
    },
    {
      "cell_type": "code",
      "source": [
        "\n"
      ],
      "metadata": {
        "colab": {
          "base_uri": "https://localhost:8080/",
          "height": 1000
        },
        "id": "VRZSXS7gY8K6",
        "outputId": "ad6a7d70-6cc8-4896-ede7-14efd8b0dee4"
      },
      "execution_count": 268,
      "outputs": [
        {
          "output_type": "stream",
          "name": "stdout",
          "text": [
            "World Rank (Jan-07-2022)\n",
            "44\n",
            "Market Value (Jan-07-2022)\n",
            "220.760 Billion USD\n",
            "World Rank (Sep-01-2021)\n",
            "44\n",
            "Market Cap (Sep-01-2021)\n",
            "242.000 Billion USD\n",
            "World Rank (Jan-01-2021)\n",
            "56\n",
            "Market Value (Jan-01-2021)\n",
            "178.950 Billion USD\n",
            "World Rank (Jan-2020)\n",
            "70\n",
            "Market Value (Jan 1st 2020)\n",
            "136.372 Billion USD\n",
            "Headquarters Country\n",
            "\n",
            "India\n",
            "ISIN Code:\n",
            "INE002A01018\n",
            "Company Business\n",
            "\n",
            "Energy\n",
            "Conglomerate\n",
            "Oil and Gas\n",
            "Number of Employees\n",
            "750,000\n",
            "Employee Count as on Date\n",
            "As on 2020\n",
            "Stock Category\n",
            "\n",
            "S&P BSE OIL and GAS\n",
            "S&P BSE ENERGY\n",
            "BSE-100 Index\n",
            "Nifty 50 Index\n",
            "Chairman\n",
            "\n",
            "Ratan N Tata\n",
            "N. Chandrasekaran\n",
            "CEO:\n",
            "\n",
            "Mukesh Ambani\n",
            "Stock Exchange\n",
            "\n",
            "BSE\n",
            "Frankfurt\n",
            "NSE\n",
            "Company Website:\n",
            "Tata Group\n",
            "Wikipedia\n",
            "Yahoo @ BSE\n"
          ]
        },
        {
          "output_type": "error",
          "ename": "IndexError",
          "evalue": "ignored",
          "traceback": [
            "\u001b[0;31m---------------------------------------------------------------------------\u001b[0m",
            "\u001b[0;31mIndexError\u001b[0m                                Traceback (most recent call last)",
            "\u001b[0;32m<ipython-input-268-d49350ab8d79>\u001b[0m in \u001b[0;36m<module>\u001b[0;34m\u001b[0m\n\u001b[1;32m      1\u001b[0m \u001b[0;32mfor\u001b[0m \u001b[0mi\u001b[0m \u001b[0;32min\u001b[0m \u001b[0mclass_\u001b[0m\u001b[0;34m:\u001b[0m\u001b[0;34m\u001b[0m\u001b[0;34m\u001b[0m\u001b[0m\n\u001b[0;32m----> 2\u001b[0;31m   \u001b[0mprint\u001b[0m\u001b[0;34m(\u001b[0m\u001b[0msoup\u001b[0m\u001b[0;34m.\u001b[0m\u001b[0mfind_all\u001b[0m\u001b[0;34m(\u001b[0m\u001b[0;34m\"div\"\u001b[0m\u001b[0;34m,\u001b[0m\u001b[0mclass_\u001b[0m\u001b[0;34m=\u001b[0m \u001b[0mi\u001b[0m\u001b[0;34m)\u001b[0m\u001b[0;34m[\u001b[0m\u001b[0;36m0\u001b[0m\u001b[0;34m]\u001b[0m\u001b[0;34m.\u001b[0m\u001b[0mtext\u001b[0m\u001b[0;34m.\u001b[0m\u001b[0mstrip\u001b[0m\u001b[0;34m(\u001b[0m\u001b[0;34m)\u001b[0m\u001b[0;34m)\u001b[0m\u001b[0;34m\u001b[0m\u001b[0;34m\u001b[0m\u001b[0m\n\u001b[0m",
            "\u001b[0;31mIndexError\u001b[0m: list index out of range"
          ]
        }
      ]
    },
    {
      "cell_type": "code",
      "source": [
        "soup.find_all(\"div\",{\"class\" :\"clearfix col-sm-6 field field--name-field-world-rank-jan072022 field--type-integer field--label-above\"})[0].text.strip()"
      ],
      "metadata": {
        "colab": {
          "base_uri": "https://localhost:8080/",
          "height": 35
        },
        "id": "X9bL6W_yU5QL",
        "outputId": "6a2db01c-b888-4b56-85aa-faf38a367127"
      },
      "execution_count": 249,
      "outputs": [
        {
          "output_type": "execute_result",
          "data": {
            "text/plain": [
              "'World Rank (Jan-07-2022)\\n44'"
            ],
            "application/vnd.google.colaboratory.intrinsic+json": {
              "type": "string"
            }
          },
          "metadata": {},
          "execution_count": 249
        }
      ]
    },
    {
      "cell_type": "markdown",
      "source": [
        "children = a.findChildren()"
      ],
      "metadata": {
        "id": "YYGHfqYDU5Kh"
      }
    },
    {
      "cell_type": "code",
      "source": [
        "for child in children:\n",
        "    print(child.text)"
      ],
      "metadata": {
        "colab": {
          "base_uri": "https://localhost:8080/"
        },
        "id": "v-8OuHiaU5Hj",
        "outputId": "34c02a84-255c-4a47-eac3-02e659d001c8"
      },
      "execution_count": 275,
      "outputs": [
        {
          "output_type": "stream",
          "name": "stdout",
          "text": [
            "World Rank (Jan-07-2022)\n",
            "44\n"
          ]
        }
      ]
    },
    {
      "cell_type": "markdown",
      "source": [
        "final_implementation\n"
      ],
      "metadata": {
        "id": "4WGwgtD4cO7h"
      }
    },
    {
      "cell_type": "code",
      "source": [
        "a=soup.find_all(\"div\",class_=\"clearfix group-header\")[1]"
      ],
      "metadata": {
        "id": "1qNwCGrtU5Ee"
      },
      "execution_count": 282,
      "outputs": []
    },
    {
      "cell_type": "code",
      "source": [
        "\n",
        "children = a.findChildren()\n",
        "for child in children:\n",
        "  b=soup.find_all(\"div\",class_=\"field--label\")[0]\n",
        "  children_b = b.findChildren()\n",
        "  for child_b in children_b:\n",
        "    print(child_b)"
      ],
      "metadata": {
        "id": "P6MYlfvKU5Bf"
      },
      "execution_count": 292,
      "outputs": []
    },
    {
      "cell_type": "code",
      "source": [
        "\n",
        "children = a.findChildren()\n",
        "for child in children:\n",
        "    if soup.find_all(\"li\", {\"class\": \"field--label\"}):\n",
        "      b=soup.find_all(\"div\",class_=\"field--label\")\n",
        "      children_b = b.findChildren()\n",
        "      for child_b in children_b:\n",
        "        print(child_b)   \n",
        "    else:\n",
        "      continue\n"
      ],
      "metadata": {
        "id": "ew0gJWiuU47T"
      },
      "execution_count": 298,
      "outputs": []
    },
    {
      "cell_type": "code",
      "source": [
        "soup.find_all(\"div\",{'class':'field--label'})[0].text"
      ],
      "metadata": {
        "colab": {
          "base_uri": "https://localhost:8080/",
          "height": 35
        },
        "id": "eIItH9ThRbGJ",
        "outputId": "a931873f-2b4c-45e1-e7f9-22677c13786e"
      },
      "execution_count": 231,
      "outputs": [
        {
          "output_type": "execute_result",
          "data": {
            "text/plain": [
              "'World Rank (Jan-07-2022)'"
            ],
            "application/vnd.google.colaboratory.intrinsic+json": {
              "type": "string"
            }
          },
          "metadata": {},
          "execution_count": 231
        }
      ]
    },
    {
      "cell_type": "code",
      "source": [
        "len(soup.find_all(\"div\",{'class':'field--label'}))"
      ],
      "metadata": {
        "colab": {
          "base_uri": "https://localhost:8080/"
        },
        "id": "qxJyj1xXS72q",
        "outputId": "9299bbad-a3f6-4ffe-b277-2869008b6fa2"
      },
      "execution_count": 237,
      "outputs": [
        {
          "output_type": "execute_result",
          "data": {
            "text/plain": [
              "206"
            ]
          },
          "metadata": {},
          "execution_count": 237
        }
      ]
    },
    {
      "cell_type": "code",
      "source": [
        "for i in range(len(soup.find_all(\"div\",{'class':'field--label'}))):\n",
        "  a=soup.find_all(\"div\",{'class':'field--label'})[i].text\n",
        "  print(f\"{a}\")"
      ],
      "metadata": {
        "colab": {
          "base_uri": "https://localhost:8080/"
        },
        "id": "1xnJbXd_Fhoh",
        "outputId": "a5e181a5-c2e4-4004-8ab2-6072b8119bec"
      },
      "execution_count": 235,
      "outputs": [
        {
          "output_type": "stream",
          "name": "stdout",
          "text": [
            "World Rank (Jan-07-2022)\n",
            "World Rank (Sep-01-2021)\n",
            "Market Cap (Sep-01-2021)\n",
            "Headquarters Country\n",
            "Number of Employees\n",
            "Employee Count as on Date\n",
            "Chairman\n",
            "Company Website:\n",
            "Annual Revenue in USD\n",
            "Annual Results for Year Ending\n",
            "About Company Business:\n",
            "World Rank (Jan-07-2022)\n",
            "Market Value (Jan-07-2022)\n",
            "World Rank (Sep-01-2021)\n",
            "Market Cap (Sep-01-2021)\n",
            "World Rank (Jan-01-2021)\n",
            "Market Value (Jan-01-2021)\n",
            "World Rank (Jan-2020)\n",
            "Market Value (Jan 1st 2020)\n",
            "Headquarters Country\n",
            "ISIN Code:\n",
            "Company Business\n",
            "Number of Employees\n",
            "Employee Count as on Date\n",
            "Stock Category\n",
            "Chairman\n",
            "CEO:\n",
            "Stock Exchange\n",
            "Company Website:\n",
            "Rank in Country (Jan-2021)\n",
            "Annual Revenue in USD\n",
            "Annual Net Income in USD\n",
            "Annual Results for Year Ending\n",
            "About Company Business:\n",
            "Business Sector:\n",
            "World Rank (Jan-07-2022)\n",
            "Market Value (Jan-07-2022)\n",
            "World Rank (Sep-01-2021)\n",
            "Market Cap (Sep-01-2021)\n",
            "World Rank (Jan-01-2021)\n",
            "Market Value (Jan-01-2021)\n",
            "World Rank (Jan-2020)\n",
            "Market Value (Jan 1st 2020)\n",
            "Headquarters Country\n",
            "ISIN Code:\n",
            "Company Business\n",
            "Number of Employees\n",
            "Employee Count as on Date\n",
            "Stock Category\n",
            "Chairman\n",
            "CEO:\n",
            "Stock Exchange\n",
            "Company Website:\n",
            "Rank in Country (Jan-2021)\n",
            "Annual Revenue in USD\n",
            "Annual Net Income in USD\n",
            "Annual Results for Year Ending\n",
            "About Company Business:\n",
            "Business Sector:\n",
            "World Rank (Jan-07-2022)\n",
            "Market Value (Jan-07-2022)\n",
            "World Rank (Sep-01-2021)\n",
            "Market Cap (Sep-01-2021)\n",
            "World Rank (Jan-01-2021)\n",
            "Market Value (Jan-01-2021)\n",
            "World Rank (Jan-2020)\n",
            "Market Value (Jan 1st 2020)\n",
            "Headquarters Country\n",
            "ISIN Code:\n",
            "Company Business\n",
            "Number of Employees\n",
            "Employee Count as on Date\n",
            "Stock Category\n",
            "Chairman\n",
            "CEO:\n",
            "Stock Exchange\n",
            "Company Website:\n",
            "Rank in Country (Jan-2021)\n",
            "Annual Revenue in USD\n",
            "Annual Net Income in USD\n",
            "Annual Results for Year Ending\n",
            "About Company Business:\n",
            "Facts About Company\n",
            "Business Sector:\n",
            "World Rank (Jan-07-2022)\n",
            "Market Value (Jan-07-2022)\n",
            "World Rank (Sep-01-2021)\n",
            "Market Cap (Sep-01-2021)\n",
            "World Rank (Jan-01-2021)\n",
            "Market Value (Jan-01-2021)\n",
            "World Rank (Jan-2020)\n",
            "Market Value (Jan 1st 2020)\n",
            "Headquarters Country\n",
            "ISIN Code:\n",
            "Company Business\n",
            "Number of Employees\n",
            "Employee Count as on Date\n",
            "Stock Category\n",
            "Chairman\n",
            "CEO:\n",
            "Stock Exchange\n",
            "Company Website:\n",
            "Rank in Country (Jan-2021)\n",
            "Annual Revenue in USD\n",
            "Annual Net Income in USD\n",
            "Annual Results for Year Ending\n",
            "About Company Business:\n",
            "Business Sector:\n",
            "World Rank (Jan-07-2022)\n",
            "Headquarters Country\n",
            "Company Business\n",
            "Number of Employees\n",
            "Employee Count as on Date\n",
            "Company Website:\n",
            "Annual Revenue in USD\n",
            "Annual Net Income in USD\n",
            "Annual Results for Year Ending\n",
            "About Company Business:\n",
            "World Rank (Jan-07-2022)\n",
            "World Rank (Sep-01-2021)\n",
            "World Rank (Jan-01-2021)\n",
            "Headquarters Country\n",
            "Company Business\n",
            "Chairman\n",
            "Company Website:\n",
            "Annual Revenue in USD\n",
            "Annual Net Income in USD\n",
            "Annual Results for Year Ending\n",
            "About Company Business:\n",
            "World Rank (Jan-07-2022)\n",
            "Market Value (Jan-07-2022)\n",
            "World Rank (Sep-01-2021)\n",
            "Market Cap (Sep-01-2021)\n",
            "World Rank (Jan-01-2021)\n",
            "Market Value (Jan-01-2021)\n",
            "World Rank (Jan-2020)\n",
            "Market Value (Jan 1st 2020)\n",
            "Headquarters Country\n",
            "ISIN Code:\n",
            "Company Business\n",
            "Number of Employees\n",
            "Employee Count as on Date\n",
            "Stock Category\n",
            "Chairman\n",
            "CEO:\n",
            "Stock Exchange\n",
            "Company Website:\n",
            "Rank in Country (Jan-2021)\n",
            "Annual Revenue in USD\n",
            "Annual Net Income in USD\n",
            "Annual Results for Year Ending\n",
            "About Company Business:\n",
            "Business Sector:\n",
            "World Rank (Jan-07-2022)\n",
            "Market Value (Jan-07-2022)\n",
            "World Rank (Sep-01-2021)\n",
            "Market Cap (Sep-01-2021)\n",
            "World Rank (Jan-01-2021)\n",
            "Market Value (Jan-01-2021)\n",
            "World Rank (Jan-2020)\n",
            "Market Value (Jan 1st 2020)\n",
            "Headquarters Country\n",
            "ISIN Code:\n",
            "Company Business\n",
            "Number of Employees\n",
            "Employee Count as on Date\n",
            "Stock Category\n",
            "Chairman\n",
            "CEO:\n",
            "Stock Exchange\n",
            "Company Website:\n",
            "Rank in Country (Jan-2021)\n",
            "Annual Revenue in USD\n",
            "Annual Net Income in USD\n",
            "Annual Results for Year Ending\n",
            "About Company Business:\n",
            "Business Sector:\n",
            "World Rank (Jan-07-2022)\n",
            "Market Value (Jan-07-2022)\n",
            "World Rank (Sep-01-2021)\n",
            "Market Cap (Sep-01-2021)\n",
            "World Rank (Jan-01-2021)\n",
            "Market Value (Jan-01-2021)\n",
            "World Rank (Jan-2020)\n",
            "Market Value (Jan 1st 2020)\n",
            "Headquarters Country\n",
            "ISIN Code:\n",
            "Company Business\n",
            "Number of Employees\n",
            "Employee Count as on Date\n",
            "Stock Category\n",
            "Chairman\n",
            "CEO:\n",
            "Stock Exchange\n",
            "Company Website:\n",
            "Rank in Country (Jan-2021)\n",
            "Annual Revenue in USD\n",
            "Annual Net Income in USD\n",
            "Annual Results for Year Ending\n",
            "About Company Business:\n",
            "Facts About Company\n",
            "Business Sector:\n",
            "Nominal GDP\n",
            "Nominal GDP as on Year\n",
            "GDP Per Capita\n",
            "GDP Per Capita as on Year\n"
          ]
        }
      ]
    },
    {
      "cell_type": "markdown",
      "source": [
        "# finding "
      ],
      "metadata": {
        "id": "OhAg4gYWHIwA"
      }
    },
    {
      "cell_type": "code",
      "source": [
        "soup.find('div',{'class':'views-field views-field-title col-sm-12 clearfix'})"
      ],
      "metadata": {
        "id": "FtA9X-Db4qxE"
      },
      "execution_count": 150,
      "outputs": []
    },
    {
      "cell_type": "code",
      "source": [
        "for i in range(10):\n",
        "  print(f\"https://www.value.today/headquarters/india?title=&field_headquarters_of_company_target_id&field_company_category_primary_target_id&field_company_website_uri=&field_market_value_jan072022_value=&page={i}\")\n"
      ],
      "metadata": {
        "colab": {
          "base_uri": "https://localhost:8080/"
        },
        "id": "vwv4uX0d_jhZ",
        "outputId": "649e4baf-ca1b-4569-98da-54c20020f548"
      },
      "execution_count": 162,
      "outputs": [
        {
          "output_type": "stream",
          "name": "stdout",
          "text": [
            "https://www.value.today/headquarters/india?title=&field_headquarters_of_company_target_id&field_company_category_primary_target_id&field_company_website_uri=&field_market_value_jan072022_value=&page=0\n",
            "https://www.value.today/headquarters/india?title=&field_headquarters_of_company_target_id&field_company_category_primary_target_id&field_company_website_uri=&field_market_value_jan072022_value=&page=1\n",
            "https://www.value.today/headquarters/india?title=&field_headquarters_of_company_target_id&field_company_category_primary_target_id&field_company_website_uri=&field_market_value_jan072022_value=&page=2\n",
            "https://www.value.today/headquarters/india?title=&field_headquarters_of_company_target_id&field_company_category_primary_target_id&field_company_website_uri=&field_market_value_jan072022_value=&page=3\n",
            "https://www.value.today/headquarters/india?title=&field_headquarters_of_company_target_id&field_company_category_primary_target_id&field_company_website_uri=&field_market_value_jan072022_value=&page=4\n",
            "https://www.value.today/headquarters/india?title=&field_headquarters_of_company_target_id&field_company_category_primary_target_id&field_company_website_uri=&field_market_value_jan072022_value=&page=5\n",
            "https://www.value.today/headquarters/india?title=&field_headquarters_of_company_target_id&field_company_category_primary_target_id&field_company_website_uri=&field_market_value_jan072022_value=&page=6\n",
            "https://www.value.today/headquarters/india?title=&field_headquarters_of_company_target_id&field_company_category_primary_target_id&field_company_website_uri=&field_market_value_jan072022_value=&page=7\n",
            "https://www.value.today/headquarters/india?title=&field_headquarters_of_company_target_id&field_company_category_primary_target_id&field_company_website_uri=&field_market_value_jan072022_value=&page=8\n",
            "https://www.value.today/headquarters/india?title=&field_headquarters_of_company_target_id&field_company_category_primary_target_id&field_company_website_uri=&field_market_value_jan072022_value=&page=9\n"
          ]
        }
      ]
    },
    {
      "cell_type": "code",
      "source": [
        "\"https://www.value.today/headquarters/india?title=&field_headquarters_of_company_target_id&field_company_category_primary_target_id&field_company_website_uri=&field_market_value_jan072022_value=&page=99\""
      ],
      "metadata": {
        "id": "Qz6IVzAxBV1z"
      },
      "execution_count": null,
      "outputs": []
    },
    {
      "cell_type": "code",
      "source": [
        "last=soup.find_all(\"li\",class_=\"pager__item pager__item--next\")"
      ],
      "metadata": {
        "id": "WVlAu1rs6C8F"
      },
      "execution_count": 184,
      "outputs": []
    },
    {
      "cell_type": "code",
      "source": [
        "last"
      ],
      "metadata": {
        "colab": {
          "base_uri": "https://localhost:8080/",
          "height": 35
        },
        "id": "VRn8oqQzA1u3",
        "outputId": "983ad22f-981a-4b67-a96b-c78bccd3b4ea"
      },
      "execution_count": 170,
      "outputs": [
        {
          "output_type": "execute_result",
          "data": {
            "text/plain": [
              "'Next page\\nNext ›'"
            ],
            "application/vnd.google.colaboratory.intrinsic+json": {
              "type": "string"
            }
          },
          "metadata": {},
          "execution_count": 170
        }
      ]
    },
    {
      "cell_type": "code",
      "source": [
        "a=soup.find_all(\"li\", {\"class\": \"pager__item pager__item--next\"})"
      ],
      "metadata": {
        "id": "sfH-5qeADFej"
      },
      "execution_count": 195,
      "outputs": []
    },
    {
      "cell_type": "code",
      "source": [],
      "metadata": {
        "colab": {
          "base_uri": "https://localhost:8080/"
        },
        "id": "k-AwDvo5DH7l",
        "outputId": "8ed3e038-4746-4d9c-bb38-8d7e00f514b5"
      },
      "execution_count": 197,
      "outputs": [
        {
          "output_type": "execute_result",
          "data": {
            "text/plain": [
              "[]"
            ]
          },
          "metadata": {},
          "execution_count": 197
        }
      ]
    },
    {
      "cell_type": "code",
      "source": [
        "if soup.find_all(\"li\", {\"class\": \"pager__item pager__item--next\"}):\n",
        "    print(\"Tag Found\")\n",
        "else:\n",
        "  print(\"Tag not found\")"
      ],
      "metadata": {
        "colab": {
          "base_uri": "https://localhost:8080/"
        },
        "id": "_MXGsB0jCMq0",
        "outputId": "789073dc-4d74-4bd2-eed9-602a529bd8cd"
      },
      "execution_count": 194,
      "outputs": [
        {
          "output_type": "stream",
          "name": "stdout",
          "text": [
            "Tag not found\n"
          ]
        }
      ]
    },
    {
      "cell_type": "markdown",
      "source": [
        "# get url"
      ],
      "metadata": {
        "id": "vWLRT9SeFSt1"
      }
    },
    {
      "cell_type": "code",
      "source": [
        "i=90\n",
        "response=requests.get(f\"https://www.value.today/headquarters/india?title=&field_headquarters_of_company_target_id&field_company_category_primary_target_id&field_company_website_uri=&field_market_value_jan072022_value=&page={i}\")\n",
        "page_content=response.text\n",
        "soup=BeautifulSoup(page_content,\"html.parser\")\n",
        "while i != 0:\n",
        "  if soup.find_all(\"li\", {\"class\": \"pager__item pager__item--next\"}):\n",
        "    response=requests.get(f\"https://www.value.today/headquarters/india?title=&field_headquarters_of_company_target_id&field_company_category_primary_target_id&field_company_website_uri=&field_market_value_jan072022_value=&page={i}\")\n",
        "    page_content=response.text\n",
        "    soup=BeautifulSoup(page_content,\"html.parser\")\n",
        "\n",
        "    print(f\"https://www.value.today/headquarters/india?title=&field_headquarters_of_company_target_id&field_company_category_primary_target_id&field_company_website_uri=&field_market_value_jan072022_value=&page={i}\")\n",
        "    i+=1\n",
        "  else:\n",
        "    i = 0\n"
      ],
      "metadata": {
        "colab": {
          "base_uri": "https://localhost:8080/"
        },
        "id": "i4629x1cDQUy",
        "outputId": "bcc53d7c-2bd5-40a9-a7e5-0c8e8345fc0b"
      },
      "execution_count": 211,
      "outputs": [
        {
          "output_type": "stream",
          "name": "stdout",
          "text": [
            "https://www.value.today/headquarters/india?title=&field_headquarters_of_company_target_id&field_company_category_primary_target_id&field_company_website_uri=&field_market_value_jan072022_value=&page=90\n",
            "https://www.value.today/headquarters/india?title=&field_headquarters_of_company_target_id&field_company_category_primary_target_id&field_company_website_uri=&field_market_value_jan072022_value=&page=91\n",
            "https://www.value.today/headquarters/india?title=&field_headquarters_of_company_target_id&field_company_category_primary_target_id&field_company_website_uri=&field_market_value_jan072022_value=&page=92\n",
            "https://www.value.today/headquarters/india?title=&field_headquarters_of_company_target_id&field_company_category_primary_target_id&field_company_website_uri=&field_market_value_jan072022_value=&page=93\n",
            "https://www.value.today/headquarters/india?title=&field_headquarters_of_company_target_id&field_company_category_primary_target_id&field_company_website_uri=&field_market_value_jan072022_value=&page=94\n",
            "https://www.value.today/headquarters/india?title=&field_headquarters_of_company_target_id&field_company_category_primary_target_id&field_company_website_uri=&field_market_value_jan072022_value=&page=95\n",
            "https://www.value.today/headquarters/india?title=&field_headquarters_of_company_target_id&field_company_category_primary_target_id&field_company_website_uri=&field_market_value_jan072022_value=&page=96\n",
            "https://www.value.today/headquarters/india?title=&field_headquarters_of_company_target_id&field_company_category_primary_target_id&field_company_website_uri=&field_market_value_jan072022_value=&page=97\n",
            "https://www.value.today/headquarters/india?title=&field_headquarters_of_company_target_id&field_company_category_primary_target_id&field_company_website_uri=&field_market_value_jan072022_value=&page=98\n",
            "https://www.value.today/headquarters/india?title=&field_headquarters_of_company_target_id&field_company_category_primary_target_id&field_company_website_uri=&field_market_value_jan072022_value=&page=99\n"
          ]
        }
      ]
    },
    {
      "cell_type": "code",
      "source": [],
      "metadata": {
        "id": "trA5rgdiBQbH"
      },
      "execution_count": null,
      "outputs": []
    }
  ]
}