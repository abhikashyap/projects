{
  "nbformat": 4,
  "nbformat_minor": 0,
  "metadata": {
    "colab": {
      "provenance": [],
      "authorship_tag": "ABX9TyNdnV7Hp9h++LzclcFSa9Tw",
      "include_colab_link": true
    },
    "kernelspec": {
      "name": "python3",
      "display_name": "Python 3"
    },
    "language_info": {
      "name": "python"
    }
  },
  "cells": [
    {
      "cell_type": "markdown",
      "metadata": {
        "id": "view-in-github",
        "colab_type": "text"
      },
      "source": [
        "<a href=\"https://colab.research.google.com/github/abhikashyap/projects/blob/main/value_today_scraping.ipynb\" target=\"_parent\"><img src=\"https://colab.research.google.com/assets/colab-badge.svg\" alt=\"Open In Colab\"/></a>"
      ]
    },
    {
      "cell_type": "markdown",
      "source": [
        "# Extracting html file from github"
      ],
      "metadata": {
        "id": "hBJh2Xt7s2GP"
      }
    },
    {
      "cell_type": "code",
      "execution_count": 2,
      "metadata": {
        "id": "calrFPD7esYo"
      },
      "outputs": [],
      "source": [
        "import requests\n",
        "from bs4 import BeautifulSoup"
      ]
    },
    {
      "cell_type": "code",
      "source": [
        "response=requests.get(\"https://www.value.today/headquarters/india?title=&field_headquarters_of_company_target_id&field_company_category_primary_target_id&field_company_website_uri=&field_market_value_jan072022_value=&page=0\")"
      ],
      "metadata": {
        "id": "SF0P8qG90FEt"
      },
      "execution_count": 3,
      "outputs": []
    },
    {
      "cell_type": "code",
      "source": [
        "len(response.text)"
      ],
      "metadata": {
        "colab": {
          "base_uri": "https://localhost:8080/"
        },
        "id": "dfDHb5SzecI9",
        "outputId": "9a25c935-963b-4aaa-e2ca-e85597416bb6"
      },
      "execution_count": 4,
      "outputs": [
        {
          "output_type": "execute_result",
          "data": {
            "text/plain": [
              "170955"
            ]
          },
          "metadata": {},
          "execution_count": 4
        }
      ]
    },
    {
      "cell_type": "code",
      "source": [
        "page_content=response.text"
      ],
      "metadata": {
        "id": "hG-dQHYxdYSE"
      },
      "execution_count": 5,
      "outputs": []
    },
    {
      "cell_type": "markdown",
      "source": [
        "## Converting to html with beautifulsoup"
      ],
      "metadata": {
        "id": "dscKc34IfSze"
      }
    },
    {
      "cell_type": "code",
      "source": [
        "soup=BeautifulSoup(page_content,\"html.parser\")"
      ],
      "metadata": {
        "id": "9WezJH-ldfWA"
      },
      "execution_count": 6,
      "outputs": []
    },
    {
      "cell_type": "markdown",
      "source": [
        "# extracting data\n"
      ],
      "metadata": {
        "id": "qdzWxutufeX2"
      }
    },
    {
      "cell_type": "code",
      "source": [
        "soups=[]\n",
        "i=0\n",
        "response=requests.get(f\"https://www.value.today/headquarters/india?title=&field_headquarters_of_company_target_id&field_company_category_primary_target_id&field_company_website_uri=&field_market_value_jan072022_value=&page={i}\")\n",
        "page_content=response.text\n",
        "soup=BeautifulSoup(page_content,\"html.parser\")\n",
        "while i != -1:\n",
        "  if soup.find_all(\"li\", {\"class\": \"pager__item pager__item--next\"}):\n",
        "    response=requests.get(f\"https://www.value.today/headquarters/india?title=&field_headquarters_of_company_target_id&field_company_category_primary_target_id&field_company_website_uri=&field_market_value_jan072022_value=&page={i}\")\n",
        "    page_content=response.text\n",
        "    soup=BeautifulSoup(page_content,\"html.parser\")\n",
        "    soups.append(soup)\n",
        "\n",
        "    #print(f\"https://www.value.today/headquarters/india?title=&field_headquarters_of_company_target_id&field_company_category_primary_target_id&field_company_website_uri=&field_market_value_jan072022_value=&page={i}\")\n",
        "    i+=1\n",
        "  else:\n",
        "    i = -1"
      ],
      "metadata": {
        "id": "vNsHGbqmS5pR"
      },
      "execution_count": 270,
      "outputs": []
    },
    {
      "cell_type": "code",
      "source": [
        "companies=[]\n",
        "for soup in soups: \n",
        "  company=soup.find_all(\"li\",\"row well clearfix\")\n",
        "  for element in company:\n",
        "    companies.append(element)"
      ],
      "metadata": {
        "id": "oen7KsNgS0vZ"
      },
      "execution_count": 271,
      "outputs": []
    },
    {
      "cell_type": "code",
      "source": [
        "len(companies)"
      ],
      "metadata": {
        "colab": {
          "base_uri": "https://localhost:8080/"
        },
        "id": "zFddTEkoUORd",
        "outputId": "648a09d9-374a-45ed-e5b6-d4b23ec0b6bb"
      },
      "execution_count": 272,
      "outputs": [
        {
          "output_type": "execute_result",
          "data": {
            "text/plain": [
              "1000"
            ]
          },
          "metadata": {},
          "execution_count": 272
        }
      ]
    },
    {
      "cell_type": "code",
      "source": [
        "def find_tag(file,tag,class_= None):\n",
        "  if file.find(tag,class_):\n",
        "    return file.find(tag,class_)\n",
        "  else:\n",
        "    return \"null\""
      ],
      "metadata": {
        "id": "EScaaZE5TP4F"
      },
      "execution_count": 273,
      "outputs": []
    },
    {
      "cell_type": "code",
      "source": [
        "data=companies[1].find(\"div\",\"clearfix col-sm-6 field field--name-field-market-value-jan072022 field--type-float field--label-above\")"
      ],
      "metadata": {
        "id": "Z1D71Eq4UkP0"
      },
      "execution_count": 274,
      "outputs": []
    },
    {
      "cell_type": "code",
      "source": [
        "if data == None:\n",
        "  ans = \"null\"\n",
        "else:\n",
        "  file = data\n",
        "  ans=file.find(\"div\",\"field--item\").text"
      ],
      "metadata": {
        "id": "MpubnUaGUkMC"
      },
      "execution_count": 275,
      "outputs": []
    },
    {
      "cell_type": "code",
      "source": [
        "ans"
      ],
      "metadata": {
        "colab": {
          "base_uri": "https://localhost:8080/",
          "height": 35
        },
        "id": "lfNxWDdSUkII",
        "outputId": "00b3f3ac-a1d3-46df-9647-96b991e6427a"
      },
      "execution_count": 276,
      "outputs": [
        {
          "output_type": "execute_result",
          "data": {
            "text/plain": [
              "'220.760 Billion USD'"
            ],
            "application/vnd.google.colaboratory.intrinsic+json": {
              "type": "string"
            }
          },
          "metadata": {},
          "execution_count": 276
        }
      ]
    },
    {
      "cell_type": "code",
      "source": [
        "len(companies)"
      ],
      "metadata": {
        "colab": {
          "base_uri": "https://localhost:8080/"
        },
        "id": "_KGF1UVxXXMt",
        "outputId": "5c69f955-101b-449d-a976-c532270ec07b"
      },
      "execution_count": 277,
      "outputs": [
        {
          "output_type": "execute_result",
          "data": {
            "text/plain": [
              "1000"
            ]
          },
          "metadata": {},
          "execution_count": 277
        }
      ]
    },
    {
      "cell_type": "code",
      "source": [
        "out=[]\n",
        "for company in companies:\n",
        "  data=company.find(\"div\",\"clearfix col-sm-6 field field--name-field-market-value-jan072022 field--type-float field--label-above\")\n",
        "  if data == None:\n",
        "    ans = \"null\"\n",
        "    out.append(ans)\n",
        "  else:\n",
        "    file = data\n",
        "    ans=file.find(\"div\",\"field--item\").text\n",
        "    out.append(ans)"
      ],
      "metadata": {
        "id": "aGhO3NU5UkEv"
      },
      "execution_count": 278,
      "outputs": []
    },
    {
      "cell_type": "code",
      "source": [
        "# extracts information\n",
        "def extract(class_):\n",
        "  out=[]\n",
        "  for company in companies:\n",
        "    data=company.find(\"div\",class_)\n",
        "    if data == None:\n",
        "      ans = \"null\"\n",
        "      out.append(ans)\n",
        "    else:\n",
        "      file = data\n",
        "      ans=file.find(\"div\",\"field--item\").text\n",
        "      out.append(ans)\n",
        "  return(out)"
      ],
      "metadata": {
        "id": "c0rbUWkJUj7A"
      },
      "execution_count": 279,
      "outputs": []
    },
    {
      "cell_type": "code",
      "source": [
        "# extract company_name\n",
        "company_name=[]\n",
        "for company in companies:\n",
        "  company_name.append(company.find(\"div\",\"field field--name-node-title field--type-ds field--label-hidden field--item\").text.strip())"
      ],
      "metadata": {
        "id": "oc9eFDj6ZZxJ"
      },
      "execution_count": 280,
      "outputs": []
    },
    {
      "cell_type": "code",
      "source": [
        "data_frame=[]"
      ],
      "metadata": {
        "id": "42_aPf70bmTn"
      },
      "execution_count": 281,
      "outputs": []
    },
    {
      "cell_type": "code",
      "source": [
        "data_frame.append(company_name)"
      ],
      "metadata": {
        "id": "HQprntKaZZuS"
      },
      "execution_count": 282,
      "outputs": []
    },
    {
      "cell_type": "code",
      "source": [
        "# extract World Rank (Jan-07-2022)\n",
        "world_rank_2022=extract(\"clearfix col-sm-6 field field--name-field-world-rank-jan072022 field--type-integer field--label-above\")"
      ],
      "metadata": {
        "id": "JQn0_O3yZZro"
      },
      "execution_count": 283,
      "outputs": []
    },
    {
      "cell_type": "code",
      "source": [
        "data_frame.append(world_rank_2022)"
      ],
      "metadata": {
        "id": "SV1TFB_7ZZow"
      },
      "execution_count": 284,
      "outputs": []
    },
    {
      "cell_type": "code",
      "source": [
        "# extract market value\n",
        "market_value_2022 = extract(\"clearfix col-sm-6 field field--name-field-market-value-jan072022 field--type-float field--label-above\")"
      ],
      "metadata": {
        "id": "zh9_9mE7ZZlt"
      },
      "execution_count": 285,
      "outputs": []
    },
    {
      "cell_type": "code",
      "source": [
        "data_frame.append(market_value_2022)"
      ],
      "metadata": {
        "id": "m1dR6JZ2Ujww"
      },
      "execution_count": 286,
      "outputs": []
    },
    {
      "cell_type": "code",
      "source": [
        "# extract"
      ],
      "metadata": {
        "id": "nRpag_oxUiyb"
      },
      "execution_count": 287,
      "outputs": []
    },
    {
      "cell_type": "code",
      "source": [],
      "metadata": {
        "id": "YIdjFFMLcSC0"
      },
      "execution_count": null,
      "outputs": []
    },
    {
      "cell_type": "code",
      "source": [],
      "metadata": {
        "id": "b3UcElTXcR_5"
      },
      "execution_count": null,
      "outputs": []
    },
    {
      "cell_type": "code",
      "source": [],
      "metadata": {
        "id": "KnGsVNqYcR86"
      },
      "execution_count": null,
      "outputs": []
    },
    {
      "cell_type": "code",
      "source": [],
      "metadata": {
        "id": "hQvFjzXCcR53"
      },
      "execution_count": null,
      "outputs": []
    },
    {
      "cell_type": "code",
      "source": [],
      "metadata": {
        "id": "BGpJhDwkcR25"
      },
      "execution_count": null,
      "outputs": []
    },
    {
      "cell_type": "code",
      "source": [],
      "metadata": {
        "id": "sR2AlEFZcRzt"
      },
      "execution_count": null,
      "outputs": []
    },
    {
      "cell_type": "code",
      "source": [],
      "metadata": {
        "id": "POYGUwl9cRw1"
      },
      "execution_count": null,
      "outputs": []
    },
    {
      "cell_type": "code",
      "source": [],
      "metadata": {
        "id": "hamMADdXcRts"
      },
      "execution_count": null,
      "outputs": []
    },
    {
      "cell_type": "code",
      "source": [],
      "metadata": {
        "id": "trA5rgdiBQbH"
      },
      "execution_count": null,
      "outputs": []
    }
  ]
}