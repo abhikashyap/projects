{
  "nbformat": 4,
  "nbformat_minor": 0,
  "metadata": {
    "colab": {
      "provenance": [],
      "authorship_tag": "ABX9TyPYCgehPv7o1ayy2eoDennn",
      "include_colab_link": true
    },
    "kernelspec": {
      "name": "python3",
      "display_name": "Python 3"
    },
    "language_info": {
      "name": "python"
    }
  },
  "cells": [
    {
      "cell_type": "markdown",
      "metadata": {
        "id": "view-in-github",
        "colab_type": "text"
      },
      "source": [
        "<a href=\"https://colab.research.google.com/github/abhikashyap/projects/blob/main/value_today_scraping.ipynb\" target=\"_parent\"><img src=\"https://colab.research.google.com/assets/colab-badge.svg\" alt=\"Open In Colab\"/></a>"
      ]
    },
    {
      "cell_type": "markdown",
      "source": [
        "# Extracting html file from github"
      ],
      "metadata": {
        "id": "hBJh2Xt7s2GP"
      }
    },
    {
      "cell_type": "code",
      "execution_count": 2,
      "metadata": {
        "id": "calrFPD7esYo"
      },
      "outputs": [],
      "source": [
        "import requests\n",
        "from bs4 import BeautifulSoup"
      ]
    },
    {
      "cell_type": "code",
      "source": [
        "response=requests.get(\"https://www.value.today/headquarters/india?title=&field_headquarters_of_company_target_id&field_company_category_primary_target_id&field_company_website_uri=&field_market_value_jan072022_value=&page=0\")"
      ],
      "metadata": {
        "id": "SF0P8qG90FEt"
      },
      "execution_count": 3,
      "outputs": []
    },
    {
      "cell_type": "code",
      "source": [
        "len(response.text)"
      ],
      "metadata": {
        "colab": {
          "base_uri": "https://localhost:8080/"
        },
        "id": "dfDHb5SzecI9",
        "outputId": "9a25c935-963b-4aaa-e2ca-e85597416bb6"
      },
      "execution_count": 4,
      "outputs": [
        {
          "output_type": "execute_result",
          "data": {
            "text/plain": [
              "170955"
            ]
          },
          "metadata": {},
          "execution_count": 4
        }
      ]
    },
    {
      "cell_type": "code",
      "source": [
        "page_content=response.text"
      ],
      "metadata": {
        "id": "hG-dQHYxdYSE"
      },
      "execution_count": 5,
      "outputs": []
    },
    {
      "cell_type": "markdown",
      "source": [
        "## Converting to html with beautifulsoup"
      ],
      "metadata": {
        "id": "dscKc34IfSze"
      }
    },
    {
      "cell_type": "code",
      "source": [
        "soup=BeautifulSoup(page_content,\"html.parser\")"
      ],
      "metadata": {
        "id": "9WezJH-ldfWA"
      },
      "execution_count": 6,
      "outputs": []
    },
    {
      "cell_type": "markdown",
      "source": [
        "# extracting data\n"
      ],
      "metadata": {
        "id": "qdzWxutufeX2"
      }
    },
    {
      "cell_type": "code",
      "source": [
        "soups=[]\n",
        "i=0\n",
        "response=requests.get(f\"https://www.value.today/headquarters/india?title=&field_headquarters_of_company_target_id&field_company_category_primary_target_id&field_company_website_uri=&field_market_value_jan072022_value=&page={i}\")\n",
        "page_content=response.text\n",
        "soup=BeautifulSoup(page_content,\"html.parser\")\n",
        "while i != -1:\n",
        "  if soup.find_all(\"li\", {\"class\": \"pager__item pager__item--next\"}):\n",
        "    response=requests.get(f\"https://www.value.today/headquarters/india?title=&field_headquarters_of_company_target_id&field_company_category_primary_target_id&field_company_website_uri=&field_market_value_jan072022_value=&page={i}\")\n",
        "    page_content=response.text\n",
        "    soup=BeautifulSoup(page_content,\"html.parser\")\n",
        "    soups.append(soup)\n",
        "\n",
        "    #print(f\"https://www.value.today/headquarters/india?title=&field_headquarters_of_company_target_id&field_company_category_primary_target_id&field_company_website_uri=&field_market_value_jan072022_value=&page={i}\")\n",
        "    i+=1\n",
        "  else:\n",
        "    i = -1"
      ],
      "metadata": {
        "id": "vNsHGbqmS5pR"
      },
      "execution_count": 3,
      "outputs": []
    },
    {
      "cell_type": "code",
      "source": [
        "companies=[]\n",
        "for soup in soups: \n",
        "  company=soup.find_all(\"li\",\"row well clearfix\")\n",
        "  for element in company:\n",
        "    companies.append(element)"
      ],
      "metadata": {
        "id": "oen7KsNgS0vZ"
      },
      "execution_count": 4,
      "outputs": []
    },
    {
      "cell_type": "code",
      "source": [
        "len(companies)"
      ],
      "metadata": {
        "colab": {
          "base_uri": "https://localhost:8080/"
        },
        "id": "zFddTEkoUORd",
        "outputId": "2fd3a9dd-231d-4f90-c0e9-483fe585399c"
      },
      "execution_count": 5,
      "outputs": [
        {
          "output_type": "execute_result",
          "data": {
            "text/plain": [
              "1000"
            ]
          },
          "metadata": {},
          "execution_count": 5
        }
      ]
    },
    {
      "cell_type": "code",
      "source": [
        "def find_tag(file,tag,class_= None):\n",
        "  if file.find(tag,class_):\n",
        "    return file.find(tag,class_)\n",
        "  else:\n",
        "    return \"null\""
      ],
      "metadata": {
        "id": "EScaaZE5TP4F"
      },
      "execution_count": 6,
      "outputs": []
    },
    {
      "cell_type": "code",
      "source": [
        "data=companies[1].find(\"div\",\"clearfix col-sm-6 field field--name-field-market-value-jan072022 field--type-float field--label-above\")"
      ],
      "metadata": {
        "id": "Z1D71Eq4UkP0"
      },
      "execution_count": 7,
      "outputs": []
    },
    {
      "cell_type": "code",
      "source": [
        "if data == None:\n",
        "  ans = \"null\"\n",
        "else:\n",
        "  file = data\n",
        "  ans=file.find(\"div\",\"field--item\").text"
      ],
      "metadata": {
        "id": "MpubnUaGUkMC"
      },
      "execution_count": 8,
      "outputs": []
    },
    {
      "cell_type": "code",
      "source": [
        "ans"
      ],
      "metadata": {
        "colab": {
          "base_uri": "https://localhost:8080/",
          "height": 35
        },
        "id": "lfNxWDdSUkII",
        "outputId": "f9b41bda-4d73-4172-db7f-08e7a2bbc09d"
      },
      "execution_count": 9,
      "outputs": [
        {
          "output_type": "execute_result",
          "data": {
            "text/plain": [
              "'220.760 Billion USD'"
            ],
            "application/vnd.google.colaboratory.intrinsic+json": {
              "type": "string"
            }
          },
          "metadata": {},
          "execution_count": 9
        }
      ]
    },
    {
      "cell_type": "code",
      "source": [
        "len(companies)"
      ],
      "metadata": {
        "colab": {
          "base_uri": "https://localhost:8080/"
        },
        "id": "_KGF1UVxXXMt",
        "outputId": "12bed5b3-71d9-4510-c626-5ac5514d14e1"
      },
      "execution_count": 10,
      "outputs": [
        {
          "output_type": "execute_result",
          "data": {
            "text/plain": [
              "1000"
            ]
          },
          "metadata": {},
          "execution_count": 10
        }
      ]
    },
    {
      "cell_type": "code",
      "source": [
        "out=[]\n",
        "for company in companies:\n",
        "  data=company.find(\"div\",\"clearfix col-sm-6 field field--name-field-market-value-jan072022 field--type-float field--label-above\")\n",
        "  if data == None:\n",
        "    ans = \"null\"\n",
        "    out.append(ans)\n",
        "  else:\n",
        "    file = data\n",
        "    ans=file.find(\"div\",\"field--item\").text\n",
        "    out.append(ans)"
      ],
      "metadata": {
        "id": "aGhO3NU5UkEv"
      },
      "execution_count": 11,
      "outputs": []
    },
    {
      "cell_type": "code",
      "source": [
        "# extracts information\n",
        "def extract(class_):\n",
        "  out=[]\n",
        "  for company in companies:\n",
        "    data=company.find(\"div\",class_)\n",
        "    if data == None:\n",
        "      ans = \"null\"\n",
        "      out.append(ans)\n",
        "    else:\n",
        "      file = data\n",
        "      ans=file.find(\"div\",\"field--item\").text\n",
        "      out.append(ans)\n",
        "  return(out)"
      ],
      "metadata": {
        "id": "c0rbUWkJUj7A"
      },
      "execution_count": 12,
      "outputs": []
    },
    {
      "cell_type": "code",
      "source": [
        "# extract company_name\n",
        "company_name=[]\n",
        "for company in companies:\n",
        "  company_name.append(company.find(\"div\",\"field field--name-node-title field--type-ds field--label-hidden field--item\").text.strip())"
      ],
      "metadata": {
        "id": "oc9eFDj6ZZxJ"
      },
      "execution_count": 13,
      "outputs": []
    },
    {
      "cell_type": "code",
      "source": [],
      "metadata": {
        "id": "42_aPf70bmTn"
      },
      "execution_count": 25,
      "outputs": []
    },
    {
      "cell_type": "code",
      "source": [
        "data_frame.append(company_name)"
      ],
      "metadata": {
        "id": "HQprntKaZZuS"
      },
      "execution_count": 61,
      "outputs": []
    },
    {
      "cell_type": "code",
      "source": [
        "# extract World Rank_2022_jan\n",
        "world_rank_2022_jan=extract(\"clearfix col-sm-6 field field--name-field-world-rank-jan072022 field--type-integer field--label-above\")"
      ],
      "metadata": {
        "id": "JQn0_O3yZZro"
      },
      "execution_count": 62,
      "outputs": []
    },
    {
      "cell_type": "code",
      "source": [
        "# extract market value_jan_2022\n",
        "market_value_2022_jan = extract(\"clearfix col-sm-6 field field--name-field-market-value-jan072022 field--type-float field--label-above\")"
      ],
      "metadata": {
        "id": "zh9_9mE7ZZlt"
      },
      "execution_count": 63,
      "outputs": []
    },
    {
      "cell_type": "code",
      "source": [
        "# extract world_rank 2021_sept\n",
        "world_rank_2021_sept =extract(\"clearfix col-sm-6 field field--name-field-world-rank-sep-01-2021- field--type-integer field--label-above\")"
      ],
      "metadata": {
        "id": "nRpag_oxUiyb"
      },
      "execution_count": 64,
      "outputs": []
    },
    {
      "cell_type": "code",
      "source": [
        "# extract market_cap_2021_sept\n",
        "market_cap_2021_sept =extract(\"clearfix col-sm-6 field field--name-field-market-cap-aug-01-2021- field--type-float field--label-above\")"
      ],
      "metadata": {
        "id": "YIdjFFMLcSC0"
      },
      "execution_count": 65,
      "outputs": []
    },
    {
      "cell_type": "code",
      "source": [
        "# extract world_rank_jan_2021\n",
        "class_=\"clearfix col-sm-6 field field--name-field-world-rank-jan012021 field--type-integer field--label-above\"\n",
        "world_rank_jan_2021 = extract(class_)"
      ],
      "metadata": {
        "id": "KnGsVNqYcR86"
      },
      "execution_count": 66,
      "outputs": []
    },
    {
      "cell_type": "code",
      "source": [
        "# extract market_value_jan_2021\n",
        "class_=\"clearfix col-sm-6 field field--name-field-market-value-jan012021 field--type-float field--label-above\"\n",
        "market_value_jan_2021 = extract(class_)"
      ],
      "metadata": {
        "id": "4PU49CI2PryI"
      },
      "execution_count": 67,
      "outputs": []
    },
    {
      "cell_type": "code",
      "source": [
        "# extract world_rank_jan_2020\n",
        "class_=\"clearfix col-sm-6 field field--name-field-world-rank-jan-2020 field--type-integer field--label-above\"\n",
        "world_rank_jan_2020 = extract(class_)"
      ],
      "metadata": {
        "id": "jiukuefuPrvO"
      },
      "execution_count": 68,
      "outputs": []
    },
    {
      "cell_type": "code",
      "source": [
        "# extract market_value_jan_2020\n",
        "class_=\"clearfix col-sm-6 field field--name-field-market-value-jan-2020 field--type-float field--label-above\"\n",
        "market_value_jan_2020 = extract(class_)"
      ],
      "metadata": {
        "id": "Iy5lcekJPrrl"
      },
      "execution_count": 69,
      "outputs": []
    },
    {
      "cell_type": "code",
      "source": [
        "# Headquarters_Country\n",
        "\n",
        "class_=\"clearfix col-sm-12 field field--name-field-headquarters-of-company field--type-entity-reference field--label-above\"\n",
        "Headquarters_Country = extract(class_)"
      ],
      "metadata": {
        "id": "hQvFjzXCcR53"
      },
      "execution_count": 70,
      "outputs": []
    },
    {
      "cell_type": "code",
      "source": [
        "# Chairman\n",
        "\n",
        "class_=\"clearfix col-sm-12 field field--name-field-chairman field--type-entity-reference field--label-above\"\n",
        "Chairman = extract(class_)"
      ],
      "metadata": {
        "id": "BGpJhDwkcR25"
      },
      "execution_count": 71,
      "outputs": []
    },
    {
      "cell_type": "code",
      "source": [
        "# ISIN Code:\n",
        "\n",
        "class_=\"clearfix col-sm-12 field field--name-field-isin-code field--type-string field--label-above\"\n",
        "ISIN_Code = extract(class_)"
      ],
      "metadata": {
        "id": "FgTTp5EUReyL"
      },
      "execution_count": 72,
      "outputs": []
    },
    {
      "cell_type": "code",
      "source": [
        "# Company_Business:\n",
        "\n",
        "class_=\"clearfix col-sm-12 category-button field field--name-field-company-category-primary field--type-entity-reference field--label-above\"\n",
        "Company_Business = extract(class_)"
      ],
      "metadata": {
        "id": "3gbGQA80RevB"
      },
      "execution_count": 73,
      "outputs": []
    },
    {
      "cell_type": "code",
      "source": [
        "# Stock_Exchange:\n",
        "\n",
        "class_=\"clearfix col-sm-12 field field--name-field-stock-exchange-lc field--type-entity-reference field--label-inline\"\n",
        "Stock_Exchange = extract(class_)"
      ],
      "metadata": {
        "id": "IB0ygnLSRer4"
      },
      "execution_count": 74,
      "outputs": []
    },
    {
      "cell_type": "code",
      "source": [
        "# Number_of_Employees:\n",
        "\n",
        "class_=\"clearfix col-sm-12 field field--name-field-employee-count field--type-integer field--label-inline\"\n",
        "Number_of_Employees = extract(class_)"
      ],
      "metadata": {
        "id": "xtCdI7CnReo6"
      },
      "execution_count": 75,
      "outputs": []
    },
    {
      "cell_type": "code",
      "source": [
        "# Rank_in_Country_2021:\n",
        "\n",
        "class_=\"clearfix col-sm-12 field field--name-field-company-rank-in-country-in field--type-string field--label-inline\"\n",
        "Rank_in_Country_2021 = extract(class_)"
      ],
      "metadata": {
        "id": "2Qhxx8-ARemG"
      },
      "execution_count": 76,
      "outputs": []
    },
    {
      "cell_type": "code",
      "source": [
        "# Annual Revenue in USD:\n",
        "\n",
        "class_=\"clearfix col-sm-12 field field--name-field-revenue-in-usd field--type-float field--label-inline\"\n",
        "Annua_Revenue_in_USD = extract(class_)"
      ],
      "metadata": {
        "id": "3_d7jfVLSdBv"
      },
      "execution_count": 77,
      "outputs": []
    },
    {
      "cell_type": "code",
      "source": [
        "# Annual_Net_Income_in_USD:\n",
        "\n",
        "class_=\"clearfix col-sm-12 field field--name-field-net-income-in-usd field--type-float field--label-inline\"\n",
        "Annual_Net_Income_in_USD = extract(class_)"
      ],
      "metadata": {
        "id": "_LIxTMfzSc-m"
      },
      "execution_count": 79,
      "outputs": []
    },
    {
      "cell_type": "code",
      "source": [
        "\n",
        "dic = {\"company_name\":company_name,\"world_rank_2022_jan\":world_rank_2022_jan,\"world_rank_2021_sept\":world_rank_2021_sept,\n",
        "       \"market_cap_2021_sept\":market_cap_2021_sept,\n",
        "       \"world_rank_jan_2021\" :world_rank_jan_2021,\n",
        "       \"market_value_jan_2021\":market_value_jan_2021,\n",
        "       \"world_rank_jan_2020\":world_rank_jan_2020,\n",
        "       \"Headquarters_Country\":Headquarters_Country,\n",
        "       \"Chairman\":Chairman,\n",
        "       \"ISIN_Code\":ISIN_Code,\n",
        "       \"Company_Business\":Company_Business,\n",
        "       \"Stock_Exchange\":Stock_Exchange,\n",
        "       \"Number_of_Employees\":Number_of_Employees,\n",
        "       \"Rank_in_Country_2021\":Rank_in_Country_2021,\n",
        "       \"Annua_Revenue_in_USD\":Annua_Revenue_in_USD,\n",
        "       \"Annual_Net_Income_in_USD\":Annual_Net_Income_in_USD\n",
        "}"
      ],
      "metadata": {
        "id": "WcGEp5C-Nrbe"
      },
      "execution_count": 80,
      "outputs": []
    },
    {
      "cell_type": "code",
      "source": [
        "import pandas as pd"
      ],
      "metadata": {
        "id": "sR2AlEFZcRzt"
      },
      "execution_count": 81,
      "outputs": []
    },
    {
      "cell_type": "code",
      "source": [
        "pd.DataFrame.from_dict(dic)"
      ],
      "metadata": {
        "colab": {
          "base_uri": "https://localhost:8080/",
          "height": 713
        },
        "id": "POYGUwl9cRw1",
        "outputId": "6eb1b234-40ad-47fb-8bda-5eef1d697ebb"
      },
      "execution_count": 82,
      "outputs": [
        {
          "output_type": "execute_result",
          "data": {
            "text/plain": [
              "                                      company_name world_rank_2022_jan  \\\n",
              "0                                       TATA GROUP                  44   \n",
              "1                              RELIANCE INDUSTRIES                  54   \n",
              "2                  TATA CONSULTANCY SERVICES (TCS)                  65   \n",
              "3                                        HDFC BANK                 127   \n",
              "4                                          INFOSYS                 149   \n",
              "..                                             ...                 ...   \n",
              "995  SOUTHERN PETROCHEMICAL INDUSTRIES CORPORATION              20,668   \n",
              "996                            BHAGERIA INDUSTRIES              20,687   \n",
              "997                      FUTURE LIFESTYLE FASHIONS              20,695   \n",
              "998                        CAPACIT'E INFRAPROJECTS              20,722   \n",
              "999                          BLACK ROSE INDUSTRIES              20,734   \n",
              "\n",
              "    world_rank_2021_sept market_cap_2021_sept world_rank_jan_2021  \\\n",
              "0                     44  242.000 Billion USD                null   \n",
              "1                     52  214.910 Billion USD                  56   \n",
              "2                     61  195.160 Billion USD                  78   \n",
              "3                    128  121.600 Billion USD                 118   \n",
              "4                    155  101.040 Billion USD                 202   \n",
              "..                   ...                  ...                 ...   \n",
              "995               21,629    0.148 Billion USD               19589   \n",
              "996               21,756    0.145 Billion USD               18193   \n",
              "997               21,797    0.144 Billion USD               14693   \n",
              "998               22,036    0.139 Billion USD               16085   \n",
              "999               22,269    0.133 Billion USD               18560   \n",
              "\n",
              "    market_value_jan_2021 world_rank_jan_2020 Headquarters_Country  \\\n",
              "0                    null                null                India   \n",
              "1     178.950 Billion USD                  70                India   \n",
              "2     150.000 Billion USD                  97                India   \n",
              "3     107.380 Billion USD                 120                India   \n",
              "4      72.539 Billion USD                 335                India   \n",
              "..                    ...                 ...                  ...   \n",
              "995     0.068 Billion USD               21309                India   \n",
              "996     0.100 Billion USD               20353                India   \n",
              "997     0.241 Billion USD                7139                India   \n",
              "998     0.173 Billion USD               16429                India   \n",
              "999     0.091 Billion USD               20177                India   \n",
              "\n",
              "                 Chairman     ISIN_Code    Company_Business Stock_Exchange  \\\n",
              "0            Ratan N Tata          null                null           null   \n",
              "1           Mukesh Ambani  INE002A01018              Energy            BSE   \n",
              "2       N. Chandrasekaran  INE467B01029          Technology            BSE   \n",
              "3       Atanu Chakraborty  INE040A01034  Financial Services            BSE   \n",
              "4    N.r. Narayana Murthy  INE009A01021          Technology            BSE   \n",
              "..                    ...           ...                 ...            ...   \n",
              "995                  null  INE147A01011     Basic Materials            BSE   \n",
              "996                  null  INE354C01027     Basic Materials            BSE   \n",
              "997                  null  INE452O01016   Consumer Cyclical            BSE   \n",
              "998                  null  INE264T01014          Industries            BSE   \n",
              "999                  null  INE761G01016     Basic Materials            BSE   \n",
              "\n",
              "    Number_of_Employees                  Rank_in_Country_2021  \\\n",
              "0               750,000                                  null   \n",
              "1               236,330    Company Rank in India in 2021 is 1   \n",
              "2               606,331    Company Rank in India in 2021 is 2   \n",
              "3               120,093    Company Rank in India in 2021 is 3   \n",
              "4               335,186    Company Rank in India in 2021 is 5   \n",
              "..                  ...                                   ...   \n",
              "995                null  Company Rank in India in 2021 is 894   \n",
              "996                null  Company Rank in India in 2021 is 793   \n",
              "997                null  Company Rank in India in 2021 is 564   \n",
              "998                null  Company Rank in India in 2021 is 637   \n",
              "999                null  Company Rank in India in 2021 is 823   \n",
              "\n",
              "    Annua_Revenue_in_USD Annual_Net_Income_in_USD  \n",
              "0    103,000 Million USD                     null  \n",
              "1     87,614 Million USD        7,598 Million USD  \n",
              "2     24,002 Million USD        4,797 Million USD  \n",
              "3     12,743 Million USD        4,825 Million USD  \n",
              "4     16,311 Million USD        2,968 Million USD  \n",
              "..                   ...                      ...  \n",
              "995                 null                     null  \n",
              "996                 null                     null  \n",
              "997      296 Million USD         -118 Million USD  \n",
              "998                 null                     null  \n",
              "999                 null                     null  \n",
              "\n",
              "[1000 rows x 16 columns]"
            ],
            "text/html": [
              "\n",
              "  <div id=\"df-ffeea478-b7f7-4c55-8c4b-bb9fc1d2fbbb\">\n",
              "    <div class=\"colab-df-container\">\n",
              "      <div>\n",
              "<style scoped>\n",
              "    .dataframe tbody tr th:only-of-type {\n",
              "        vertical-align: middle;\n",
              "    }\n",
              "\n",
              "    .dataframe tbody tr th {\n",
              "        vertical-align: top;\n",
              "    }\n",
              "\n",
              "    .dataframe thead th {\n",
              "        text-align: right;\n",
              "    }\n",
              "</style>\n",
              "<table border=\"1\" class=\"dataframe\">\n",
              "  <thead>\n",
              "    <tr style=\"text-align: right;\">\n",
              "      <th></th>\n",
              "      <th>company_name</th>\n",
              "      <th>world_rank_2022_jan</th>\n",
              "      <th>world_rank_2021_sept</th>\n",
              "      <th>market_cap_2021_sept</th>\n",
              "      <th>world_rank_jan_2021</th>\n",
              "      <th>market_value_jan_2021</th>\n",
              "      <th>world_rank_jan_2020</th>\n",
              "      <th>Headquarters_Country</th>\n",
              "      <th>Chairman</th>\n",
              "      <th>ISIN_Code</th>\n",
              "      <th>Company_Business</th>\n",
              "      <th>Stock_Exchange</th>\n",
              "      <th>Number_of_Employees</th>\n",
              "      <th>Rank_in_Country_2021</th>\n",
              "      <th>Annua_Revenue_in_USD</th>\n",
              "      <th>Annual_Net_Income_in_USD</th>\n",
              "    </tr>\n",
              "  </thead>\n",
              "  <tbody>\n",
              "    <tr>\n",
              "      <th>0</th>\n",
              "      <td>TATA GROUP</td>\n",
              "      <td>44</td>\n",
              "      <td>44</td>\n",
              "      <td>242.000 Billion USD</td>\n",
              "      <td>null</td>\n",
              "      <td>null</td>\n",
              "      <td>null</td>\n",
              "      <td>India</td>\n",
              "      <td>Ratan N Tata</td>\n",
              "      <td>null</td>\n",
              "      <td>null</td>\n",
              "      <td>null</td>\n",
              "      <td>750,000</td>\n",
              "      <td>null</td>\n",
              "      <td>103,000 Million USD</td>\n",
              "      <td>null</td>\n",
              "    </tr>\n",
              "    <tr>\n",
              "      <th>1</th>\n",
              "      <td>RELIANCE INDUSTRIES</td>\n",
              "      <td>54</td>\n",
              "      <td>52</td>\n",
              "      <td>214.910 Billion USD</td>\n",
              "      <td>56</td>\n",
              "      <td>178.950 Billion USD</td>\n",
              "      <td>70</td>\n",
              "      <td>India</td>\n",
              "      <td>Mukesh Ambani</td>\n",
              "      <td>INE002A01018</td>\n",
              "      <td>Energy</td>\n",
              "      <td>BSE</td>\n",
              "      <td>236,330</td>\n",
              "      <td>Company Rank in India in 2021 is 1</td>\n",
              "      <td>87,614 Million USD</td>\n",
              "      <td>7,598 Million USD</td>\n",
              "    </tr>\n",
              "    <tr>\n",
              "      <th>2</th>\n",
              "      <td>TATA CONSULTANCY SERVICES (TCS)</td>\n",
              "      <td>65</td>\n",
              "      <td>61</td>\n",
              "      <td>195.160 Billion USD</td>\n",
              "      <td>78</td>\n",
              "      <td>150.000 Billion USD</td>\n",
              "      <td>97</td>\n",
              "      <td>India</td>\n",
              "      <td>N. Chandrasekaran</td>\n",
              "      <td>INE467B01029</td>\n",
              "      <td>Technology</td>\n",
              "      <td>BSE</td>\n",
              "      <td>606,331</td>\n",
              "      <td>Company Rank in India in 2021 is 2</td>\n",
              "      <td>24,002 Million USD</td>\n",
              "      <td>4,797 Million USD</td>\n",
              "    </tr>\n",
              "    <tr>\n",
              "      <th>3</th>\n",
              "      <td>HDFC BANK</td>\n",
              "      <td>127</td>\n",
              "      <td>128</td>\n",
              "      <td>121.600 Billion USD</td>\n",
              "      <td>118</td>\n",
              "      <td>107.380 Billion USD</td>\n",
              "      <td>120</td>\n",
              "      <td>India</td>\n",
              "      <td>Atanu Chakraborty</td>\n",
              "      <td>INE040A01034</td>\n",
              "      <td>Financial Services</td>\n",
              "      <td>BSE</td>\n",
              "      <td>120,093</td>\n",
              "      <td>Company Rank in India in 2021 is 3</td>\n",
              "      <td>12,743 Million USD</td>\n",
              "      <td>4,825 Million USD</td>\n",
              "    </tr>\n",
              "    <tr>\n",
              "      <th>4</th>\n",
              "      <td>INFOSYS</td>\n",
              "      <td>149</td>\n",
              "      <td>155</td>\n",
              "      <td>101.040 Billion USD</td>\n",
              "      <td>202</td>\n",
              "      <td>72.539 Billion USD</td>\n",
              "      <td>335</td>\n",
              "      <td>India</td>\n",
              "      <td>N.r. Narayana Murthy</td>\n",
              "      <td>INE009A01021</td>\n",
              "      <td>Technology</td>\n",
              "      <td>BSE</td>\n",
              "      <td>335,186</td>\n",
              "      <td>Company Rank in India in 2021 is 5</td>\n",
              "      <td>16,311 Million USD</td>\n",
              "      <td>2,968 Million USD</td>\n",
              "    </tr>\n",
              "    <tr>\n",
              "      <th>...</th>\n",
              "      <td>...</td>\n",
              "      <td>...</td>\n",
              "      <td>...</td>\n",
              "      <td>...</td>\n",
              "      <td>...</td>\n",
              "      <td>...</td>\n",
              "      <td>...</td>\n",
              "      <td>...</td>\n",
              "      <td>...</td>\n",
              "      <td>...</td>\n",
              "      <td>...</td>\n",
              "      <td>...</td>\n",
              "      <td>...</td>\n",
              "      <td>...</td>\n",
              "      <td>...</td>\n",
              "      <td>...</td>\n",
              "    </tr>\n",
              "    <tr>\n",
              "      <th>995</th>\n",
              "      <td>SOUTHERN PETROCHEMICAL INDUSTRIES CORPORATION</td>\n",
              "      <td>20,668</td>\n",
              "      <td>21,629</td>\n",
              "      <td>0.148 Billion USD</td>\n",
              "      <td>19589</td>\n",
              "      <td>0.068 Billion USD</td>\n",
              "      <td>21309</td>\n",
              "      <td>India</td>\n",
              "      <td>null</td>\n",
              "      <td>INE147A01011</td>\n",
              "      <td>Basic Materials</td>\n",
              "      <td>BSE</td>\n",
              "      <td>null</td>\n",
              "      <td>Company Rank in India in 2021 is 894</td>\n",
              "      <td>null</td>\n",
              "      <td>null</td>\n",
              "    </tr>\n",
              "    <tr>\n",
              "      <th>996</th>\n",
              "      <td>BHAGERIA INDUSTRIES</td>\n",
              "      <td>20,687</td>\n",
              "      <td>21,756</td>\n",
              "      <td>0.145 Billion USD</td>\n",
              "      <td>18193</td>\n",
              "      <td>0.100 Billion USD</td>\n",
              "      <td>20353</td>\n",
              "      <td>India</td>\n",
              "      <td>null</td>\n",
              "      <td>INE354C01027</td>\n",
              "      <td>Basic Materials</td>\n",
              "      <td>BSE</td>\n",
              "      <td>null</td>\n",
              "      <td>Company Rank in India in 2021 is 793</td>\n",
              "      <td>null</td>\n",
              "      <td>null</td>\n",
              "    </tr>\n",
              "    <tr>\n",
              "      <th>997</th>\n",
              "      <td>FUTURE LIFESTYLE FASHIONS</td>\n",
              "      <td>20,695</td>\n",
              "      <td>21,797</td>\n",
              "      <td>0.144 Billion USD</td>\n",
              "      <td>14693</td>\n",
              "      <td>0.241 Billion USD</td>\n",
              "      <td>7139</td>\n",
              "      <td>India</td>\n",
              "      <td>null</td>\n",
              "      <td>INE452O01016</td>\n",
              "      <td>Consumer Cyclical</td>\n",
              "      <td>BSE</td>\n",
              "      <td>null</td>\n",
              "      <td>Company Rank in India in 2021 is 564</td>\n",
              "      <td>296 Million USD</td>\n",
              "      <td>-118 Million USD</td>\n",
              "    </tr>\n",
              "    <tr>\n",
              "      <th>998</th>\n",
              "      <td>CAPACIT'E INFRAPROJECTS</td>\n",
              "      <td>20,722</td>\n",
              "      <td>22,036</td>\n",
              "      <td>0.139 Billion USD</td>\n",
              "      <td>16085</td>\n",
              "      <td>0.173 Billion USD</td>\n",
              "      <td>16429</td>\n",
              "      <td>India</td>\n",
              "      <td>null</td>\n",
              "      <td>INE264T01014</td>\n",
              "      <td>Industries</td>\n",
              "      <td>BSE</td>\n",
              "      <td>null</td>\n",
              "      <td>Company Rank in India in 2021 is 637</td>\n",
              "      <td>null</td>\n",
              "      <td>null</td>\n",
              "    </tr>\n",
              "    <tr>\n",
              "      <th>999</th>\n",
              "      <td>BLACK ROSE INDUSTRIES</td>\n",
              "      <td>20,734</td>\n",
              "      <td>22,269</td>\n",
              "      <td>0.133 Billion USD</td>\n",
              "      <td>18560</td>\n",
              "      <td>0.091 Billion USD</td>\n",
              "      <td>20177</td>\n",
              "      <td>India</td>\n",
              "      <td>null</td>\n",
              "      <td>INE761G01016</td>\n",
              "      <td>Basic Materials</td>\n",
              "      <td>BSE</td>\n",
              "      <td>null</td>\n",
              "      <td>Company Rank in India in 2021 is 823</td>\n",
              "      <td>null</td>\n",
              "      <td>null</td>\n",
              "    </tr>\n",
              "  </tbody>\n",
              "</table>\n",
              "<p>1000 rows × 16 columns</p>\n",
              "</div>\n",
              "      <button class=\"colab-df-convert\" onclick=\"convertToInteractive('df-ffeea478-b7f7-4c55-8c4b-bb9fc1d2fbbb')\"\n",
              "              title=\"Convert this dataframe to an interactive table.\"\n",
              "              style=\"display:none;\">\n",
              "        \n",
              "  <svg xmlns=\"http://www.w3.org/2000/svg\" height=\"24px\"viewBox=\"0 0 24 24\"\n",
              "       width=\"24px\">\n",
              "    <path d=\"M0 0h24v24H0V0z\" fill=\"none\"/>\n",
              "    <path d=\"M18.56 5.44l.94 2.06.94-2.06 2.06-.94-2.06-.94-.94-2.06-.94 2.06-2.06.94zm-11 1L8.5 8.5l.94-2.06 2.06-.94-2.06-.94L8.5 2.5l-.94 2.06-2.06.94zm10 10l.94 2.06.94-2.06 2.06-.94-2.06-.94-.94-2.06-.94 2.06-2.06.94z\"/><path d=\"M17.41 7.96l-1.37-1.37c-.4-.4-.92-.59-1.43-.59-.52 0-1.04.2-1.43.59L10.3 9.45l-7.72 7.72c-.78.78-.78 2.05 0 2.83L4 21.41c.39.39.9.59 1.41.59.51 0 1.02-.2 1.41-.59l7.78-7.78 2.81-2.81c.8-.78.8-2.07 0-2.86zM5.41 20L4 18.59l7.72-7.72 1.47 1.35L5.41 20z\"/>\n",
              "  </svg>\n",
              "      </button>\n",
              "      \n",
              "  <style>\n",
              "    .colab-df-container {\n",
              "      display:flex;\n",
              "      flex-wrap:wrap;\n",
              "      gap: 12px;\n",
              "    }\n",
              "\n",
              "    .colab-df-convert {\n",
              "      background-color: #E8F0FE;\n",
              "      border: none;\n",
              "      border-radius: 50%;\n",
              "      cursor: pointer;\n",
              "      display: none;\n",
              "      fill: #1967D2;\n",
              "      height: 32px;\n",
              "      padding: 0 0 0 0;\n",
              "      width: 32px;\n",
              "    }\n",
              "\n",
              "    .colab-df-convert:hover {\n",
              "      background-color: #E2EBFA;\n",
              "      box-shadow: 0px 1px 2px rgba(60, 64, 67, 0.3), 0px 1px 3px 1px rgba(60, 64, 67, 0.15);\n",
              "      fill: #174EA6;\n",
              "    }\n",
              "\n",
              "    [theme=dark] .colab-df-convert {\n",
              "      background-color: #3B4455;\n",
              "      fill: #D2E3FC;\n",
              "    }\n",
              "\n",
              "    [theme=dark] .colab-df-convert:hover {\n",
              "      background-color: #434B5C;\n",
              "      box-shadow: 0px 1px 3px 1px rgba(0, 0, 0, 0.15);\n",
              "      filter: drop-shadow(0px 1px 2px rgba(0, 0, 0, 0.3));\n",
              "      fill: #FFFFFF;\n",
              "    }\n",
              "  </style>\n",
              "\n",
              "      <script>\n",
              "        const buttonEl =\n",
              "          document.querySelector('#df-ffeea478-b7f7-4c55-8c4b-bb9fc1d2fbbb button.colab-df-convert');\n",
              "        buttonEl.style.display =\n",
              "          google.colab.kernel.accessAllowed ? 'block' : 'none';\n",
              "\n",
              "        async function convertToInteractive(key) {\n",
              "          const element = document.querySelector('#df-ffeea478-b7f7-4c55-8c4b-bb9fc1d2fbbb');\n",
              "          const dataTable =\n",
              "            await google.colab.kernel.invokeFunction('convertToInteractive',\n",
              "                                                     [key], {});\n",
              "          if (!dataTable) return;\n",
              "\n",
              "          const docLinkHtml = 'Like what you see? Visit the ' +\n",
              "            '<a target=\"_blank\" href=https://colab.research.google.com/notebooks/data_table.ipynb>data table notebook</a>'\n",
              "            + ' to learn more about interactive tables.';\n",
              "          element.innerHTML = '';\n",
              "          dataTable['output_type'] = 'display_data';\n",
              "          await google.colab.output.renderOutput(dataTable, element);\n",
              "          const docLink = document.createElement('div');\n",
              "          docLink.innerHTML = docLinkHtml;\n",
              "          element.appendChild(docLink);\n",
              "        }\n",
              "      </script>\n",
              "    </div>\n",
              "  </div>\n",
              "  "
            ]
          },
          "metadata": {},
          "execution_count": 82
        }
      ]
    },
    {
      "cell_type": "code",
      "source": [],
      "metadata": {
        "id": "hamMADdXcRts"
      },
      "execution_count": null,
      "outputs": []
    },
    {
      "cell_type": "code",
      "source": [],
      "metadata": {
        "id": "trA5rgdiBQbH"
      },
      "execution_count": null,
      "outputs": []
    }
  ]
}