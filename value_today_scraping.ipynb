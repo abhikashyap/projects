{
  "nbformat": 4,
  "nbformat_minor": 0,
  "metadata": {
    "colab": {
      "provenance": [],
      "authorship_tag": "ABX9TyNl4OiEQPO/KL8U3TZ/Jqo5",
      "include_colab_link": true
    },
    "kernelspec": {
      "name": "python3",
      "display_name": "Python 3"
    },
    "language_info": {
      "name": "python"
    }
  },
  "cells": [
    {
      "cell_type": "markdown",
      "metadata": {
        "id": "view-in-github",
        "colab_type": "text"
      },
      "source": [
        "<a href=\"https://colab.research.google.com/github/abhikashyap/projects/blob/main/value_today_scraping.ipynb\" target=\"_parent\"><img src=\"https://colab.research.google.com/assets/colab-badge.svg\" alt=\"Open In Colab\"/></a>"
      ]
    },
    {
      "cell_type": "markdown",
      "source": [
        "# Extracting html file from github"
      ],
      "metadata": {
        "id": "hBJh2Xt7s2GP"
      }
    },
    {
      "cell_type": "code",
      "execution_count": 1,
      "metadata": {
        "id": "calrFPD7esYo"
      },
      "outputs": [],
      "source": [
        "import requests\n",
        "from bs4 import BeautifulSoup"
      ]
    },
    {
      "cell_type": "code",
      "source": [
        "response=requests.get(\"https://www.value.today/headquarters/india?title=&field_headquarters_of_company_target_id&field_company_category_primary_target_id&field_company_website_uri=&field_market_value_jan072022_value=&page=0\")"
      ],
      "metadata": {
        "id": "SF0P8qG90FEt"
      },
      "execution_count": 212,
      "outputs": []
    },
    {
      "cell_type": "code",
      "source": [
        "len(response.text)"
      ],
      "metadata": {
        "colab": {
          "base_uri": "https://localhost:8080/"
        },
        "id": "dfDHb5SzecI9",
        "outputId": "4bafe4d5-a1eb-40ca-93e9-9cd7b889edb5"
      },
      "execution_count": 213,
      "outputs": [
        {
          "output_type": "execute_result",
          "data": {
            "text/plain": [
              "170955"
            ]
          },
          "metadata": {},
          "execution_count": 213
        }
      ]
    },
    {
      "cell_type": "code",
      "source": [
        "page_content=response.text"
      ],
      "metadata": {
        "id": "hG-dQHYxdYSE"
      },
      "execution_count": 214,
      "outputs": []
    },
    {
      "cell_type": "markdown",
      "source": [
        "## Converting to html with beautifulsoup"
      ],
      "metadata": {
        "id": "dscKc34IfSze"
      }
    },
    {
      "cell_type": "code",
      "source": [
        "soup=BeautifulSoup(page_content,\"html.parser\")"
      ],
      "metadata": {
        "id": "9WezJH-ldfWA"
      },
      "execution_count": 215,
      "outputs": []
    },
    {
      "cell_type": "markdown",
      "source": [
        "# extracting data\n"
      ],
      "metadata": {
        "id": "qdzWxutufeX2"
      }
    },
    {
      "cell_type": "markdown",
      "source": [
        "## finding company name "
      ],
      "metadata": {
        "id": "44zfxWSZ4Oe9"
      }
    },
    {
      "cell_type": "code",
      "source": [
        "company_tag=soup.find_all('div',class_=\"field field--name-node-title field--type-ds field--label-hidden field--item\")[0].text.strip()"
      ],
      "metadata": {
        "id": "w69EU6hcd0bh"
      },
      "execution_count": 182,
      "outputs": []
    },
    {
      "cell_type": "code",
      "source": [
        "company_tag"
      ],
      "metadata": {
        "colab": {
          "base_uri": "https://localhost:8080/",
          "height": 35
        },
        "id": "93gcGZ5Z2Yxn",
        "outputId": "18870c2c-136e-47ef-bd71-7743d196ac14"
      },
      "execution_count": 183,
      "outputs": [
        {
          "output_type": "execute_result",
          "data": {
            "text/plain": [
              "'SYNCOM FORMULATIONS (INDIA) LIMITED'"
            ],
            "application/vnd.google.colaboratory.intrinsic+json": {
              "type": "string"
            }
          },
          "metadata": {},
          "execution_count": 183
        }
      ]
    },
    {
      "cell_type": "code",
      "source": [
        "company_tag=soup.find_all('div',class_=\"field field--name-node-title field--type-ds field--label-hidden field--item\")\n",
        "for i in range(len(company_tag)):\n",
        "  print(company_tag[i].text.strip())\n"
      ],
      "metadata": {
        "colab": {
          "base_uri": "https://localhost:8080/"
        },
        "id": "hBI3Yhqj2j0Q",
        "outputId": "4f89c5a3-8a35-4b7d-c37c-d8719cb291c9"
      },
      "execution_count": 157,
      "outputs": [
        {
          "output_type": "stream",
          "name": "stdout",
          "text": [
            "TATA GROUP\n",
            "RELIANCE INDUSTRIES\n",
            "TATA CONSULTANCY SERVICES (TCS)\n",
            "HDFC BANK\n",
            "INFOSYS\n",
            "LIFE INSURANCE CORPORATION OF INDIA\n",
            "RELIANCE JIO\n",
            "HINDUSTAN UNILEVER\n",
            "ICICI BANK\n",
            "HDFC\n"
          ]
        }
      ]
    },
    {
      "cell_type": "markdown",
      "source": [
        "## Finding world rank "
      ],
      "metadata": {
        "id": "SS30DuxTFzk5"
      }
    },
    {
      "cell_type": "code",
      "source": [
        "class_=[\"clearfix col-sm-6 field field--name-field-world-rank-jan072022 field--type-integer field--label-above\",\n",
        "        \"clearfix col-sm-6 field field--name-field-market-value-jan072022 field--type-float field--label-above\",\n",
        "        \"clearfix col-sm-6 field field--name-field-world-rank-sep-01-2021- field--type-integer field--label-above\",\n",
        "        \"clearfix col-sm-6 field field--name-field-market-cap-aug-01-2021- field--type-float field--label-above\",\n",
        "        \"clearfix col-sm-6 field field--name-field-world-rank-jan012021 field--type-integer field--label-above\",\n",
        "        \"clearfix col-sm-6 field field--name-field-market-value-jan012021 field--type-float field--label-above\",\n",
        "        \"clearfix col-sm-6 field field--name-field-world-rank-jan-2020 field--type-integer field--label-above\",\n",
        "        \"clearfix col-sm-6 field field--name-field-market-value-jan-2020 field--type-float field--label-above\",\n",
        "        \"clearfix col-sm-12 field field--name-field-headquarters-of-company field--type-entity-reference field--label-above\",\n",
        "        \"clearfix col-sm-12 field field--name-field-isin-code field--type-string field--label-above\",\n",
        "        \"clearfix col-sm-12 category-button field field--name-field-company-category-primary field--type-entity-reference field--label-above\",\n",
        "        \"clearfix col-sm-12 field field--name-field-employee-count field--type-integer field--label-inline\",\n",
        "        \"clearfix col-sm-12 field field--name-field-employee-count-as-on-date field--type-string field--label-inline\",\n",
        "        \"clearfix col-sm-12 field field--name-field-stock-category-lc field--type-entity-reference field--label-inline\",\n",
        "        \"clearfix col-sm-12 field field--name-field-chairman field--type-entity-reference field--label-above\",\n",
        "        \"clearfix col-sm-12 field field--name-field-ceo field--type-entity-reference field--label-above\",\n",
        "        \"clearfix col-sm-12 field field--name-field-stock-exchange-lc field--type-entity-reference field--label-inline\",\n",
        "        \"clearfix col-sm-12 field field--name-field-company-website field--type-link field--label-above\",\n",
        "        \"clearfix col-sm-12 field field--name-field-wikipedia field--type-link field--label-hidden field--item\",\n",
        "        \"clearfix col-sm-12 field field--name-field-yahoo field--type-link field--label-hidden field--item\",\n",
        "        \"clearfix col-sm-12 field field--name-field-twitter field--type-link field--label-hidden field--item\"\n",
        "        \"clearfix col-sm-12 field field--name-field-facebook field--type-link field--label-hidden field--item\",\n",
        "        \"clearfix col-sm-12 field field--name-field-company-rank-in-country-in field--type-string field--label-inline\",\n",
        "        \"clearfix col-sm-12 field field--name-field-revenue-in-usd field--type-float field--label-inline\",\n",
        "        \"clearfix col-sm-12 field field--name-field-net-income-in-usd field--type-float field--label-inline\",\n",
        "        \"clearfix col-sm-12 field field--name-field-revenue-as-on-year field--type-string field--label-inline\",\n",
        "        \"clearfix col-sm-12 field field--name-body field--type-text-with-summary field--label-above\",\n",
        "        \"clearfix col-sm-12 field field--name-field-company-sub-category- field--type-entity-reference field--label-above\"\n",
        "\n",
        "        ]"
      ],
      "metadata": {
        "id": "YiMSh8KFU5aX"
      },
      "execution_count": 242,
      "outputs": []
    },
    {
      "cell_type": "code",
      "source": [
        "soup.find(\"div\",class_ =\"clearfix group-header\")"
      ],
      "metadata": {
        "colab": {
          "base_uri": "https://localhost:8080/"
        },
        "id": "5FkxX11CK6wO",
        "outputId": "47e2b059-c29e-40a7-a4b4-eac5fa584549"
      },
      "execution_count": 355,
      "outputs": [
        {
          "output_type": "execute_result",
          "data": {
            "text/plain": [
              "<div class=\"field field--name-node-title field--type-ds field--label-hidden field--item\"><h2 class=\"text-primary\">\n",
              "<a href=\"/company/tata-group\" hreflang=\"en\">TATA GROUP</a>\n",
              "</h2>\n",
              "</div>"
            ]
          },
          "metadata": {},
          "execution_count": 355
        }
      ]
    },
    {
      "cell_type": "code",
      "source": [
        "company=soup.find(\"div\",class_ =\"clearfix group-header\")\n",
        "company_name = find_tag(\"div\",\"field field--name-node-title field--type-ds field--label-hidden field--item\")\n",
        "world_rank_on_market_value_name=find_tag(\"div\",\"field--label\")\n",
        "world_rank_on_market_value=find_tag(\"div\",\"field--item\")\n",
        "print(company_name,world_rank_on_market_value_name,world_rank_on_market_value)"
      ],
      "metadata": {
        "colab": {
          "base_uri": "https://localhost:8080/"
        },
        "id": "fG2e_N4p_rSF",
        "outputId": "cb68835a-a2b5-4462-9f38-96ab705b8b13"
      },
      "execution_count": 361,
      "outputs": [
        {
          "output_type": "stream",
          "name": "stdout",
          "text": [
            "\n",
            "TATA GROUP\n",
            "\n",
            " World Rank (Jan-07-2022) \n",
            "TATA GROUP\n",
            "\n",
            "\n"
          ]
        }
      ]
    },
    {
      "cell_type": "code",
      "source": [
        "company=soup.find(\"li\",class_ =\"row well clearfix\")\n",
        "group_header = company.find(\"div\",class_ =\"clearfix group-header\")\n",
        "company_name_soup =group_header.find(\"div\",class_ =\"field field--name-node-title field--type-ds field--label-hidden field--item\")\n",
        "company_name = find_tag(company_name_soup,\"h2\",\"text-primary\").strip()\n"
      ],
      "metadata": {
        "id": "1C26SVogMadl"
      },
      "execution_count": 392,
      "outputs": []
    },
    {
      "cell_type": "code",
      "source": [],
      "metadata": {
        "colab": {
          "base_uri": "https://localhost:8080/",
          "height": 35
        },
        "id": "EPgryyyeMaam",
        "outputId": "b18b329a-4229-4f06-aaa7-5717f8c30bc9"
      },
      "execution_count": 393,
      "outputs": [
        {
          "output_type": "execute_result",
          "data": {
            "text/plain": [
              "'TATA GROUP'"
            ],
            "application/vnd.google.colaboratory.intrinsic+json": {
              "type": "string"
            }
          },
          "metadata": {},
          "execution_count": 393
        }
      ]
    },
    {
      "cell_type": "code",
      "source": [],
      "metadata": {
        "id": "GOsQ6t9uMaXm"
      },
      "execution_count": null,
      "outputs": []
    },
    {
      "cell_type": "code",
      "source": [],
      "metadata": {
        "id": "7ongOW1jMaUh"
      },
      "execution_count": null,
      "outputs": []
    },
    {
      "cell_type": "code",
      "source": [],
      "metadata": {
        "id": "YjN1AYfQMaRm"
      },
      "execution_count": null,
      "outputs": []
    },
    {
      "cell_type": "code",
      "source": [],
      "metadata": {
        "id": "t4I-r3-oMaPg"
      },
      "execution_count": null,
      "outputs": []
    },
    {
      "cell_type": "code",
      "source": [],
      "metadata": {
        "id": "S4MztMBcMaL8"
      },
      "execution_count": null,
      "outputs": []
    },
    {
      "cell_type": "code",
      "source": [],
      "metadata": {
        "id": "oHaWHfS-MaIo"
      },
      "execution_count": null,
      "outputs": []
    },
    {
      "cell_type": "code",
      "source": [],
      "metadata": {
        "id": "vwgfYApsMaFD"
      },
      "execution_count": null,
      "outputs": []
    },
    {
      "cell_type": "markdown",
      "source": [
        "## check for tag presence"
      ],
      "metadata": {
        "id": "QhoLL_oOCJph"
      }
    },
    {
      "cell_type": "code",
      "source": [
        "def find_tag(file,tag,class_= None):\n",
        "  if file.find(tag,class_):\n",
        "    return file.find(tag,class_).text\n",
        "  else:\n",
        "    return \"null\""
      ],
      "metadata": {
        "id": "VxGM4syqCJEB"
      },
      "execution_count": 391,
      "outputs": []
    },
    {
      "cell_type": "code",
      "source": [
        "\n",
        "  "
      ],
      "metadata": {
        "id": "K00GF3fhMn18"
      },
      "execution_count": 374,
      "outputs": []
    },
    {
      "cell_type": "code",
      "source": [],
      "metadata": {
        "colab": {
          "base_uri": "https://localhost:8080/"
        },
        "id": "9Bb9WHGpIROj",
        "outputId": "34896c6c-e965-4090-fe23-b97b4730259a"
      },
      "execution_count": 364,
      "outputs": [
        {
          "output_type": "stream",
          "name": "stdout",
          "text": [
            "w\n"
          ]
        }
      ]
    },
    {
      "cell_type": "code",
      "source": [],
      "metadata": {
        "id": "nvZZwNAvIRLZ"
      },
      "execution_count": null,
      "outputs": []
    },
    {
      "cell_type": "code",
      "source": [],
      "metadata": {
        "id": "FN3IxYaLIRIf"
      },
      "execution_count": null,
      "outputs": []
    },
    {
      "cell_type": "code",
      "source": [],
      "metadata": {
        "id": "LzzYzk_9IREF"
      },
      "execution_count": null,
      "outputs": []
    },
    {
      "cell_type": "code",
      "source": [],
      "metadata": {
        "id": "BnONLLD0IQ4n"
      },
      "execution_count": null,
      "outputs": []
    },
    {
      "cell_type": "code",
      "source": [],
      "metadata": {
        "id": "IxD2MlFV_rMa"
      },
      "execution_count": 348,
      "outputs": []
    },
    {
      "cell_type": "code",
      "source": [],
      "metadata": {
        "id": "B_Rs0zKa_rJZ"
      },
      "execution_count": null,
      "outputs": []
    },
    {
      "cell_type": "code",
      "source": [],
      "metadata": {
        "id": "juSqZeIpZQbF"
      },
      "execution_count": 266,
      "outputs": []
    },
    {
      "cell_type": "code",
      "source": [
        "\n"
      ],
      "metadata": {
        "colab": {
          "base_uri": "https://localhost:8080/",
          "height": 1000
        },
        "id": "VRZSXS7gY8K6",
        "outputId": "ad6a7d70-6cc8-4896-ede7-14efd8b0dee4"
      },
      "execution_count": 268,
      "outputs": [
        {
          "output_type": "stream",
          "name": "stdout",
          "text": [
            "World Rank (Jan-07-2022)\n",
            "44\n",
            "Market Value (Jan-07-2022)\n",
            "220.760 Billion USD\n",
            "World Rank (Sep-01-2021)\n",
            "44\n",
            "Market Cap (Sep-01-2021)\n",
            "242.000 Billion USD\n",
            "World Rank (Jan-01-2021)\n",
            "56\n",
            "Market Value (Jan-01-2021)\n",
            "178.950 Billion USD\n",
            "World Rank (Jan-2020)\n",
            "70\n",
            "Market Value (Jan 1st 2020)\n",
            "136.372 Billion USD\n",
            "Headquarters Country\n",
            "\n",
            "India\n",
            "ISIN Code:\n",
            "INE002A01018\n",
            "Company Business\n",
            "\n",
            "Energy\n",
            "Conglomerate\n",
            "Oil and Gas\n",
            "Number of Employees\n",
            "750,000\n",
            "Employee Count as on Date\n",
            "As on 2020\n",
            "Stock Category\n",
            "\n",
            "S&P BSE OIL and GAS\n",
            "S&P BSE ENERGY\n",
            "BSE-100 Index\n",
            "Nifty 50 Index\n",
            "Chairman\n",
            "\n",
            "Ratan N Tata\n",
            "N. Chandrasekaran\n",
            "CEO:\n",
            "\n",
            "Mukesh Ambani\n",
            "Stock Exchange\n",
            "\n",
            "BSE\n",
            "Frankfurt\n",
            "NSE\n",
            "Company Website:\n",
            "Tata Group\n",
            "Wikipedia\n",
            "Yahoo @ BSE\n"
          ]
        },
        {
          "output_type": "error",
          "ename": "IndexError",
          "evalue": "ignored",
          "traceback": [
            "\u001b[0;31m---------------------------------------------------------------------------\u001b[0m",
            "\u001b[0;31mIndexError\u001b[0m                                Traceback (most recent call last)",
            "\u001b[0;32m<ipython-input-268-d49350ab8d79>\u001b[0m in \u001b[0;36m<module>\u001b[0;34m\u001b[0m\n\u001b[1;32m      1\u001b[0m \u001b[0;32mfor\u001b[0m \u001b[0mi\u001b[0m \u001b[0;32min\u001b[0m \u001b[0mclass_\u001b[0m\u001b[0;34m:\u001b[0m\u001b[0;34m\u001b[0m\u001b[0;34m\u001b[0m\u001b[0m\n\u001b[0;32m----> 2\u001b[0;31m   \u001b[0mprint\u001b[0m\u001b[0;34m(\u001b[0m\u001b[0msoup\u001b[0m\u001b[0;34m.\u001b[0m\u001b[0mfind_all\u001b[0m\u001b[0;34m(\u001b[0m\u001b[0;34m\"div\"\u001b[0m\u001b[0;34m,\u001b[0m\u001b[0mclass_\u001b[0m\u001b[0;34m=\u001b[0m \u001b[0mi\u001b[0m\u001b[0;34m)\u001b[0m\u001b[0;34m[\u001b[0m\u001b[0;36m0\u001b[0m\u001b[0;34m]\u001b[0m\u001b[0;34m.\u001b[0m\u001b[0mtext\u001b[0m\u001b[0;34m.\u001b[0m\u001b[0mstrip\u001b[0m\u001b[0;34m(\u001b[0m\u001b[0;34m)\u001b[0m\u001b[0;34m)\u001b[0m\u001b[0;34m\u001b[0m\u001b[0;34m\u001b[0m\u001b[0m\n\u001b[0m",
            "\u001b[0;31mIndexError\u001b[0m: list index out of range"
          ]
        }
      ]
    },
    {
      "cell_type": "code",
      "source": [
        "soup.find_all(\"div\",{\"class\" :\"clearfix col-sm-6 field field--name-field-world-rank-jan072022 field--type-integer field--label-above\"})[0].text.strip()"
      ],
      "metadata": {
        "colab": {
          "base_uri": "https://localhost:8080/",
          "height": 35
        },
        "id": "X9bL6W_yU5QL",
        "outputId": "6a2db01c-b888-4b56-85aa-faf38a367127"
      },
      "execution_count": 249,
      "outputs": [
        {
          "output_type": "execute_result",
          "data": {
            "text/plain": [
              "'World Rank (Jan-07-2022)\\n44'"
            ],
            "application/vnd.google.colaboratory.intrinsic+json": {
              "type": "string"
            }
          },
          "metadata": {},
          "execution_count": 249
        }
      ]
    },
    {
      "cell_type": "markdown",
      "source": [
        "children = a.findChildren()"
      ],
      "metadata": {
        "id": "YYGHfqYDU5Kh"
      }
    },
    {
      "cell_type": "code",
      "source": [
        "for child in children:\n",
        "    print(child.text)"
      ],
      "metadata": {
        "colab": {
          "base_uri": "https://localhost:8080/"
        },
        "id": "v-8OuHiaU5Hj",
        "outputId": "34c02a84-255c-4a47-eac3-02e659d001c8"
      },
      "execution_count": 275,
      "outputs": [
        {
          "output_type": "stream",
          "name": "stdout",
          "text": [
            "World Rank (Jan-07-2022)\n",
            "44\n"
          ]
        }
      ]
    },
    {
      "cell_type": "markdown",
      "source": [
        "final_implementation\n"
      ],
      "metadata": {
        "id": "4WGwgtD4cO7h"
      }
    },
    {
      "cell_type": "code",
      "source": [
        "a=soup.find_all(\"div\",class_=\"clearfix group-header\")[1]"
      ],
      "metadata": {
        "id": "1qNwCGrtU5Ee"
      },
      "execution_count": 282,
      "outputs": []
    },
    {
      "cell_type": "code",
      "source": [
        "\n",
        "children = a.findChildren()\n",
        "for child in children:\n",
        "  b=soup.find_all(\"div\",class_=\"field--label\")[0]\n",
        "  children_b = b.findChildren()\n",
        "  for child_b in children_b:\n",
        "    print(child_b)"
      ],
      "metadata": {
        "id": "P6MYlfvKU5Bf"
      },
      "execution_count": 292,
      "outputs": []
    },
    {
      "cell_type": "code",
      "source": [
        "\n",
        "children = a.findChildren()\n",
        "for child in children:\n",
        "    if soup.find_all(\"li\", {\"class\": \"field--label\"}):\n",
        "      b=soup.find_all(\"div\",class_=\"field--label\")\n",
        "      children_b = b.findChildren()\n",
        "      for child_b in children_b:\n",
        "        print(child_b)   \n",
        "    else:\n",
        "      continue\n"
      ],
      "metadata": {
        "id": "ew0gJWiuU47T"
      },
      "execution_count": 298,
      "outputs": []
    },
    {
      "cell_type": "code",
      "source": [
        "soup.find_all(\"div\",{'class':'field--label'})[0].text"
      ],
      "metadata": {
        "colab": {
          "base_uri": "https://localhost:8080/",
          "height": 35
        },
        "id": "eIItH9ThRbGJ",
        "outputId": "a931873f-2b4c-45e1-e7f9-22677c13786e"
      },
      "execution_count": 231,
      "outputs": [
        {
          "output_type": "execute_result",
          "data": {
            "text/plain": [
              "'World Rank (Jan-07-2022)'"
            ],
            "application/vnd.google.colaboratory.intrinsic+json": {
              "type": "string"
            }
          },
          "metadata": {},
          "execution_count": 231
        }
      ]
    },
    {
      "cell_type": "code",
      "source": [
        "len(soup.find_all(\"div\",{'class':'field--label'}))"
      ],
      "metadata": {
        "colab": {
          "base_uri": "https://localhost:8080/"
        },
        "id": "qxJyj1xXS72q",
        "outputId": "9299bbad-a3f6-4ffe-b277-2869008b6fa2"
      },
      "execution_count": 237,
      "outputs": [
        {
          "output_type": "execute_result",
          "data": {
            "text/plain": [
              "206"
            ]
          },
          "metadata": {},
          "execution_count": 237
        }
      ]
    },
    {
      "cell_type": "code",
      "source": [
        "for i in range(len(soup.find_all(\"div\",{'class':'field--label'}))):\n",
        "  a=soup.find_all(\"div\",{'class':'field--label'})[i].text\n",
        "  print(f\"{a}\")"
      ],
      "metadata": {
        "colab": {
          "base_uri": "https://localhost:8080/"
        },
        "id": "1xnJbXd_Fhoh",
        "outputId": "a5e181a5-c2e4-4004-8ab2-6072b8119bec"
      },
      "execution_count": 235,
      "outputs": [
        {
          "output_type": "stream",
          "name": "stdout",
          "text": [
            "World Rank (Jan-07-2022)\n",
            "World Rank (Sep-01-2021)\n",
            "Market Cap (Sep-01-2021)\n",
            "Headquarters Country\n",
            "Number of Employees\n",
            "Employee Count as on Date\n",
            "Chairman\n",
            "Company Website:\n",
            "Annual Revenue in USD\n",
            "Annual Results for Year Ending\n",
            "About Company Business:\n",
            "World Rank (Jan-07-2022)\n",
            "Market Value (Jan-07-2022)\n",
            "World Rank (Sep-01-2021)\n",
            "Market Cap (Sep-01-2021)\n",
            "World Rank (Jan-01-2021)\n",
            "Market Value (Jan-01-2021)\n",
            "World Rank (Jan-2020)\n",
            "Market Value (Jan 1st 2020)\n",
            "Headquarters Country\n",
            "ISIN Code:\n",
            "Company Business\n",
            "Number of Employees\n",
            "Employee Count as on Date\n",
            "Stock Category\n",
            "Chairman\n",
            "CEO:\n",
            "Stock Exchange\n",
            "Company Website:\n",
            "Rank in Country (Jan-2021)\n",
            "Annual Revenue in USD\n",
            "Annual Net Income in USD\n",
            "Annual Results for Year Ending\n",
            "About Company Business:\n",
            "Business Sector:\n",
            "World Rank (Jan-07-2022)\n",
            "Market Value (Jan-07-2022)\n",
            "World Rank (Sep-01-2021)\n",
            "Market Cap (Sep-01-2021)\n",
            "World Rank (Jan-01-2021)\n",
            "Market Value (Jan-01-2021)\n",
            "World Rank (Jan-2020)\n",
            "Market Value (Jan 1st 2020)\n",
            "Headquarters Country\n",
            "ISIN Code:\n",
            "Company Business\n",
            "Number of Employees\n",
            "Employee Count as on Date\n",
            "Stock Category\n",
            "Chairman\n",
            "CEO:\n",
            "Stock Exchange\n",
            "Company Website:\n",
            "Rank in Country (Jan-2021)\n",
            "Annual Revenue in USD\n",
            "Annual Net Income in USD\n",
            "Annual Results for Year Ending\n",
            "About Company Business:\n",
            "Business Sector:\n",
            "World Rank (Jan-07-2022)\n",
            "Market Value (Jan-07-2022)\n",
            "World Rank (Sep-01-2021)\n",
            "Market Cap (Sep-01-2021)\n",
            "World Rank (Jan-01-2021)\n",
            "Market Value (Jan-01-2021)\n",
            "World Rank (Jan-2020)\n",
            "Market Value (Jan 1st 2020)\n",
            "Headquarters Country\n",
            "ISIN Code:\n",
            "Company Business\n",
            "Number of Employees\n",
            "Employee Count as on Date\n",
            "Stock Category\n",
            "Chairman\n",
            "CEO:\n",
            "Stock Exchange\n",
            "Company Website:\n",
            "Rank in Country (Jan-2021)\n",
            "Annual Revenue in USD\n",
            "Annual Net Income in USD\n",
            "Annual Results for Year Ending\n",
            "About Company Business:\n",
            "Facts About Company\n",
            "Business Sector:\n",
            "World Rank (Jan-07-2022)\n",
            "Market Value (Jan-07-2022)\n",
            "World Rank (Sep-01-2021)\n",
            "Market Cap (Sep-01-2021)\n",
            "World Rank (Jan-01-2021)\n",
            "Market Value (Jan-01-2021)\n",
            "World Rank (Jan-2020)\n",
            "Market Value (Jan 1st 2020)\n",
            "Headquarters Country\n",
            "ISIN Code:\n",
            "Company Business\n",
            "Number of Employees\n",
            "Employee Count as on Date\n",
            "Stock Category\n",
            "Chairman\n",
            "CEO:\n",
            "Stock Exchange\n",
            "Company Website:\n",
            "Rank in Country (Jan-2021)\n",
            "Annual Revenue in USD\n",
            "Annual Net Income in USD\n",
            "Annual Results for Year Ending\n",
            "About Company Business:\n",
            "Business Sector:\n",
            "World Rank (Jan-07-2022)\n",
            "Headquarters Country\n",
            "Company Business\n",
            "Number of Employees\n",
            "Employee Count as on Date\n",
            "Company Website:\n",
            "Annual Revenue in USD\n",
            "Annual Net Income in USD\n",
            "Annual Results for Year Ending\n",
            "About Company Business:\n",
            "World Rank (Jan-07-2022)\n",
            "World Rank (Sep-01-2021)\n",
            "World Rank (Jan-01-2021)\n",
            "Headquarters Country\n",
            "Company Business\n",
            "Chairman\n",
            "Company Website:\n",
            "Annual Revenue in USD\n",
            "Annual Net Income in USD\n",
            "Annual Results for Year Ending\n",
            "About Company Business:\n",
            "World Rank (Jan-07-2022)\n",
            "Market Value (Jan-07-2022)\n",
            "World Rank (Sep-01-2021)\n",
            "Market Cap (Sep-01-2021)\n",
            "World Rank (Jan-01-2021)\n",
            "Market Value (Jan-01-2021)\n",
            "World Rank (Jan-2020)\n",
            "Market Value (Jan 1st 2020)\n",
            "Headquarters Country\n",
            "ISIN Code:\n",
            "Company Business\n",
            "Number of Employees\n",
            "Employee Count as on Date\n",
            "Stock Category\n",
            "Chairman\n",
            "CEO:\n",
            "Stock Exchange\n",
            "Company Website:\n",
            "Rank in Country (Jan-2021)\n",
            "Annual Revenue in USD\n",
            "Annual Net Income in USD\n",
            "Annual Results for Year Ending\n",
            "About Company Business:\n",
            "Business Sector:\n",
            "World Rank (Jan-07-2022)\n",
            "Market Value (Jan-07-2022)\n",
            "World Rank (Sep-01-2021)\n",
            "Market Cap (Sep-01-2021)\n",
            "World Rank (Jan-01-2021)\n",
            "Market Value (Jan-01-2021)\n",
            "World Rank (Jan-2020)\n",
            "Market Value (Jan 1st 2020)\n",
            "Headquarters Country\n",
            "ISIN Code:\n",
            "Company Business\n",
            "Number of Employees\n",
            "Employee Count as on Date\n",
            "Stock Category\n",
            "Chairman\n",
            "CEO:\n",
            "Stock Exchange\n",
            "Company Website:\n",
            "Rank in Country (Jan-2021)\n",
            "Annual Revenue in USD\n",
            "Annual Net Income in USD\n",
            "Annual Results for Year Ending\n",
            "About Company Business:\n",
            "Business Sector:\n",
            "World Rank (Jan-07-2022)\n",
            "Market Value (Jan-07-2022)\n",
            "World Rank (Sep-01-2021)\n",
            "Market Cap (Sep-01-2021)\n",
            "World Rank (Jan-01-2021)\n",
            "Market Value (Jan-01-2021)\n",
            "World Rank (Jan-2020)\n",
            "Market Value (Jan 1st 2020)\n",
            "Headquarters Country\n",
            "ISIN Code:\n",
            "Company Business\n",
            "Number of Employees\n",
            "Employee Count as on Date\n",
            "Stock Category\n",
            "Chairman\n",
            "CEO:\n",
            "Stock Exchange\n",
            "Company Website:\n",
            "Rank in Country (Jan-2021)\n",
            "Annual Revenue in USD\n",
            "Annual Net Income in USD\n",
            "Annual Results for Year Ending\n",
            "About Company Business:\n",
            "Facts About Company\n",
            "Business Sector:\n",
            "Nominal GDP\n",
            "Nominal GDP as on Year\n",
            "GDP Per Capita\n",
            "GDP Per Capita as on Year\n"
          ]
        }
      ]
    },
    {
      "cell_type": "markdown",
      "source": [
        "# finding "
      ],
      "metadata": {
        "id": "OhAg4gYWHIwA"
      }
    },
    {
      "cell_type": "code",
      "source": [
        "soup.find('div',{'class':'views-field views-field-title col-sm-12 clearfix'})"
      ],
      "metadata": {
        "id": "FtA9X-Db4qxE"
      },
      "execution_count": 150,
      "outputs": []
    },
    {
      "cell_type": "code",
      "source": [
        "for i in range(10):\n",
        "  print(f\"https://www.value.today/headquarters/india?title=&field_headquarters_of_company_target_id&field_company_category_primary_target_id&field_company_website_uri=&field_market_value_jan072022_value=&page={i}\")\n"
      ],
      "metadata": {
        "colab": {
          "base_uri": "https://localhost:8080/"
        },
        "id": "vwv4uX0d_jhZ",
        "outputId": "649e4baf-ca1b-4569-98da-54c20020f548"
      },
      "execution_count": 162,
      "outputs": [
        {
          "output_type": "stream",
          "name": "stdout",
          "text": [
            "https://www.value.today/headquarters/india?title=&field_headquarters_of_company_target_id&field_company_category_primary_target_id&field_company_website_uri=&field_market_value_jan072022_value=&page=0\n",
            "https://www.value.today/headquarters/india?title=&field_headquarters_of_company_target_id&field_company_category_primary_target_id&field_company_website_uri=&field_market_value_jan072022_value=&page=1\n",
            "https://www.value.today/headquarters/india?title=&field_headquarters_of_company_target_id&field_company_category_primary_target_id&field_company_website_uri=&field_market_value_jan072022_value=&page=2\n",
            "https://www.value.today/headquarters/india?title=&field_headquarters_of_company_target_id&field_company_category_primary_target_id&field_company_website_uri=&field_market_value_jan072022_value=&page=3\n",
            "https://www.value.today/headquarters/india?title=&field_headquarters_of_company_target_id&field_company_category_primary_target_id&field_company_website_uri=&field_market_value_jan072022_value=&page=4\n",
            "https://www.value.today/headquarters/india?title=&field_headquarters_of_company_target_id&field_company_category_primary_target_id&field_company_website_uri=&field_market_value_jan072022_value=&page=5\n",
            "https://www.value.today/headquarters/india?title=&field_headquarters_of_company_target_id&field_company_category_primary_target_id&field_company_website_uri=&field_market_value_jan072022_value=&page=6\n",
            "https://www.value.today/headquarters/india?title=&field_headquarters_of_company_target_id&field_company_category_primary_target_id&field_company_website_uri=&field_market_value_jan072022_value=&page=7\n",
            "https://www.value.today/headquarters/india?title=&field_headquarters_of_company_target_id&field_company_category_primary_target_id&field_company_website_uri=&field_market_value_jan072022_value=&page=8\n",
            "https://www.value.today/headquarters/india?title=&field_headquarters_of_company_target_id&field_company_category_primary_target_id&field_company_website_uri=&field_market_value_jan072022_value=&page=9\n"
          ]
        }
      ]
    },
    {
      "cell_type": "code",
      "source": [
        "\"https://www.value.today/headquarters/india?title=&field_headquarters_of_company_target_id&field_company_category_primary_target_id&field_company_website_uri=&field_market_value_jan072022_value=&page=99\""
      ],
      "metadata": {
        "id": "Qz6IVzAxBV1z"
      },
      "execution_count": null,
      "outputs": []
    },
    {
      "cell_type": "code",
      "source": [
        "last=soup.find_all(\"li\",class_=\"pager__item pager__item--next\")"
      ],
      "metadata": {
        "id": "WVlAu1rs6C8F"
      },
      "execution_count": 184,
      "outputs": []
    },
    {
      "cell_type": "code",
      "source": [
        "last"
      ],
      "metadata": {
        "colab": {
          "base_uri": "https://localhost:8080/",
          "height": 35
        },
        "id": "VRn8oqQzA1u3",
        "outputId": "983ad22f-981a-4b67-a96b-c78bccd3b4ea"
      },
      "execution_count": 170,
      "outputs": [
        {
          "output_type": "execute_result",
          "data": {
            "text/plain": [
              "'Next page\\nNext ›'"
            ],
            "application/vnd.google.colaboratory.intrinsic+json": {
              "type": "string"
            }
          },
          "metadata": {},
          "execution_count": 170
        }
      ]
    },
    {
      "cell_type": "code",
      "source": [
        "a=soup.find_all(\"li\", {\"class\": \"pager__item pager__item--next\"})"
      ],
      "metadata": {
        "id": "sfH-5qeADFej"
      },
      "execution_count": 195,
      "outputs": []
    },
    {
      "cell_type": "code",
      "source": [],
      "metadata": {
        "colab": {
          "base_uri": "https://localhost:8080/"
        },
        "id": "k-AwDvo5DH7l",
        "outputId": "8ed3e038-4746-4d9c-bb38-8d7e00f514b5"
      },
      "execution_count": 197,
      "outputs": [
        {
          "output_type": "execute_result",
          "data": {
            "text/plain": [
              "[]"
            ]
          },
          "metadata": {},
          "execution_count": 197
        }
      ]
    },
    {
      "cell_type": "code",
      "source": [
        "if soup.find_all(\"li\", {\"class\": \"pager__item pager__item--next\"}):\n",
        "    print(\"Tag Found\")\n",
        "else:\n",
        "  print(\"Tag not found\")"
      ],
      "metadata": {
        "colab": {
          "base_uri": "https://localhost:8080/"
        },
        "id": "_MXGsB0jCMq0",
        "outputId": "789073dc-4d74-4bd2-eed9-602a529bd8cd"
      },
      "execution_count": 194,
      "outputs": [
        {
          "output_type": "stream",
          "name": "stdout",
          "text": [
            "Tag not found\n"
          ]
        }
      ]
    },
    {
      "cell_type": "markdown",
      "source": [
        "# get url"
      ],
      "metadata": {
        "id": "vWLRT9SeFSt1"
      }
    },
    {
      "cell_type": "code",
      "source": [
        "i=90\n",
        "response=requests.get(f\"https://www.value.today/headquarters/india?title=&field_headquarters_of_company_target_id&field_company_category_primary_target_id&field_company_website_uri=&field_market_value_jan072022_value=&page={i}\")\n",
        "page_content=response.text\n",
        "soup=BeautifulSoup(page_content,\"html.parser\")\n",
        "while i != 0:\n",
        "  if soup.find_all(\"li\", {\"class\": \"pager__item pager__item--next\"}):\n",
        "    response=requests.get(f\"https://www.value.today/headquarters/india?title=&field_headquarters_of_company_target_id&field_company_category_primary_target_id&field_company_website_uri=&field_market_value_jan072022_value=&page={i}\")\n",
        "    page_content=response.text\n",
        "    soup=BeautifulSoup(page_content,\"html.parser\")\n",
        "\n",
        "    print(f\"https://www.value.today/headquarters/india?title=&field_headquarters_of_company_target_id&field_company_category_primary_target_id&field_company_website_uri=&field_market_value_jan072022_value=&page={i}\")\n",
        "    i+=1\n",
        "  else:\n",
        "    i = 0\n"
      ],
      "metadata": {
        "colab": {
          "base_uri": "https://localhost:8080/"
        },
        "id": "i4629x1cDQUy",
        "outputId": "bcc53d7c-2bd5-40a9-a7e5-0c8e8345fc0b"
      },
      "execution_count": 211,
      "outputs": [
        {
          "output_type": "stream",
          "name": "stdout",
          "text": [
            "https://www.value.today/headquarters/india?title=&field_headquarters_of_company_target_id&field_company_category_primary_target_id&field_company_website_uri=&field_market_value_jan072022_value=&page=90\n",
            "https://www.value.today/headquarters/india?title=&field_headquarters_of_company_target_id&field_company_category_primary_target_id&field_company_website_uri=&field_market_value_jan072022_value=&page=91\n",
            "https://www.value.today/headquarters/india?title=&field_headquarters_of_company_target_id&field_company_category_primary_target_id&field_company_website_uri=&field_market_value_jan072022_value=&page=92\n",
            "https://www.value.today/headquarters/india?title=&field_headquarters_of_company_target_id&field_company_category_primary_target_id&field_company_website_uri=&field_market_value_jan072022_value=&page=93\n",
            "https://www.value.today/headquarters/india?title=&field_headquarters_of_company_target_id&field_company_category_primary_target_id&field_company_website_uri=&field_market_value_jan072022_value=&page=94\n",
            "https://www.value.today/headquarters/india?title=&field_headquarters_of_company_target_id&field_company_category_primary_target_id&field_company_website_uri=&field_market_value_jan072022_value=&page=95\n",
            "https://www.value.today/headquarters/india?title=&field_headquarters_of_company_target_id&field_company_category_primary_target_id&field_company_website_uri=&field_market_value_jan072022_value=&page=96\n",
            "https://www.value.today/headquarters/india?title=&field_headquarters_of_company_target_id&field_company_category_primary_target_id&field_company_website_uri=&field_market_value_jan072022_value=&page=97\n",
            "https://www.value.today/headquarters/india?title=&field_headquarters_of_company_target_id&field_company_category_primary_target_id&field_company_website_uri=&field_market_value_jan072022_value=&page=98\n",
            "https://www.value.today/headquarters/india?title=&field_headquarters_of_company_target_id&field_company_category_primary_target_id&field_company_website_uri=&field_market_value_jan072022_value=&page=99\n"
          ]
        }
      ]
    },
    {
      "cell_type": "code",
      "source": [],
      "metadata": {
        "id": "trA5rgdiBQbH"
      },
      "execution_count": null,
      "outputs": []
    }
  ]
}