{
  "nbformat": 4,
  "nbformat_minor": 0,
  "metadata": {
    "colab": {
      "provenance": [],
      "authorship_tag": "ABX9TyN3j/FYMMukl4d3cPpIH4Cm",
      "include_colab_link": true
    },
    "kernelspec": {
      "name": "python3",
      "display_name": "Python 3"
    },
    "language_info": {
      "name": "python"
    }
  },
  "cells": [
    {
      "cell_type": "markdown",
      "metadata": {
        "id": "view-in-github",
        "colab_type": "text"
      },
      "source": [
        "<a href=\"https://colab.research.google.com/github/abhikashyap/projects/blob/main/value_today_scraping.ipynb\" target=\"_parent\"><img src=\"https://colab.research.google.com/assets/colab-badge.svg\" alt=\"Open In Colab\"/></a>"
      ]
    },
    {
      "cell_type": "markdown",
      "source": [
        "# Extracting html file from github"
      ],
      "metadata": {
        "id": "hBJh2Xt7s2GP"
      }
    },
    {
      "cell_type": "code",
      "execution_count": 1,
      "metadata": {
        "id": "calrFPD7esYo"
      },
      "outputs": [],
      "source": [
        "import requests\n",
        "from bs4 import BeautifulSoup"
      ]
    },
    {
      "cell_type": "code",
      "source": [
        "response=requests.get(\"https://www.value.today/headquarters/india?title=&field_headquarters_of_company_target_id&field_company_category_primary_target_id&field_company_website_uri=&field_market_value_jan072022_value=&page=95\")"
      ],
      "metadata": {
        "id": "SF0P8qG90FEt"
      },
      "execution_count": 199,
      "outputs": []
    },
    {
      "cell_type": "code",
      "source": [
        "len(response.text)"
      ],
      "metadata": {
        "colab": {
          "base_uri": "https://localhost:8080/"
        },
        "id": "dfDHb5SzecI9",
        "outputId": "fe6c5b3e-d1c0-46a5-ccb7-d9d40ff6749d"
      },
      "execution_count": 200,
      "outputs": [
        {
          "output_type": "execute_result",
          "data": {
            "text/plain": [
              "141272"
            ]
          },
          "metadata": {},
          "execution_count": 200
        }
      ]
    },
    {
      "cell_type": "code",
      "source": [
        "page_content=response.text"
      ],
      "metadata": {
        "id": "hG-dQHYxdYSE"
      },
      "execution_count": 201,
      "outputs": []
    },
    {
      "cell_type": "markdown",
      "source": [
        "## Converting to html with beautifulsoup"
      ],
      "metadata": {
        "id": "dscKc34IfSze"
      }
    },
    {
      "cell_type": "code",
      "source": [
        "soup=BeautifulSoup(page_content,\"html.parser\")"
      ],
      "metadata": {
        "id": "9WezJH-ldfWA"
      },
      "execution_count": 202,
      "outputs": []
    },
    {
      "cell_type": "markdown",
      "source": [
        "# extracting data\n"
      ],
      "metadata": {
        "id": "qdzWxutufeX2"
      }
    },
    {
      "cell_type": "markdown",
      "source": [
        "## finding company name "
      ],
      "metadata": {
        "id": "44zfxWSZ4Oe9"
      }
    },
    {
      "cell_type": "code",
      "source": [
        "company_tag=soup.find_all('div',class_=\"field field--name-node-title field--type-ds field--label-hidden field--item\")[0].text.strip()"
      ],
      "metadata": {
        "id": "w69EU6hcd0bh"
      },
      "execution_count": 182,
      "outputs": []
    },
    {
      "cell_type": "code",
      "source": [
        "company_tag"
      ],
      "metadata": {
        "colab": {
          "base_uri": "https://localhost:8080/",
          "height": 35
        },
        "id": "93gcGZ5Z2Yxn",
        "outputId": "18870c2c-136e-47ef-bd71-7743d196ac14"
      },
      "execution_count": 183,
      "outputs": [
        {
          "output_type": "execute_result",
          "data": {
            "text/plain": [
              "'SYNCOM FORMULATIONS (INDIA) LIMITED'"
            ],
            "application/vnd.google.colaboratory.intrinsic+json": {
              "type": "string"
            }
          },
          "metadata": {},
          "execution_count": 183
        }
      ]
    },
    {
      "cell_type": "code",
      "source": [
        "company_tag=soup.find_all('div',class_=\"field field--name-node-title field--type-ds field--label-hidden field--item\")\n",
        "for i in range(len(company_tag)):\n",
        "  print(company_tag[i].text.strip())\n"
      ],
      "metadata": {
        "colab": {
          "base_uri": "https://localhost:8080/"
        },
        "id": "hBI3Yhqj2j0Q",
        "outputId": "4f89c5a3-8a35-4b7d-c37c-d8719cb291c9"
      },
      "execution_count": 157,
      "outputs": [
        {
          "output_type": "stream",
          "name": "stdout",
          "text": [
            "TATA GROUP\n",
            "RELIANCE INDUSTRIES\n",
            "TATA CONSULTANCY SERVICES (TCS)\n",
            "HDFC BANK\n",
            "INFOSYS\n",
            "LIFE INSURANCE CORPORATION OF INDIA\n",
            "RELIANCE JIO\n",
            "HINDUSTAN UNILEVER\n",
            "ICICI BANK\n",
            "HDFC\n"
          ]
        }
      ]
    },
    {
      "cell_type": "code",
      "source": [
        "soup.find('div',{'class':'views-field views-field-title col-sm-12 clearfix'})"
      ],
      "metadata": {
        "id": "FtA9X-Db4qxE"
      },
      "execution_count": 150,
      "outputs": []
    },
    {
      "cell_type": "code",
      "source": [
        "for i in range(10):\n",
        "  print(f\"https://www.value.today/headquarters/india?title=&field_headquarters_of_company_target_id&field_company_category_primary_target_id&field_company_website_uri=&field_market_value_jan072022_value=&page={i}\")\n"
      ],
      "metadata": {
        "colab": {
          "base_uri": "https://localhost:8080/"
        },
        "id": "vwv4uX0d_jhZ",
        "outputId": "649e4baf-ca1b-4569-98da-54c20020f548"
      },
      "execution_count": 162,
      "outputs": [
        {
          "output_type": "stream",
          "name": "stdout",
          "text": [
            "https://www.value.today/headquarters/india?title=&field_headquarters_of_company_target_id&field_company_category_primary_target_id&field_company_website_uri=&field_market_value_jan072022_value=&page=0\n",
            "https://www.value.today/headquarters/india?title=&field_headquarters_of_company_target_id&field_company_category_primary_target_id&field_company_website_uri=&field_market_value_jan072022_value=&page=1\n",
            "https://www.value.today/headquarters/india?title=&field_headquarters_of_company_target_id&field_company_category_primary_target_id&field_company_website_uri=&field_market_value_jan072022_value=&page=2\n",
            "https://www.value.today/headquarters/india?title=&field_headquarters_of_company_target_id&field_company_category_primary_target_id&field_company_website_uri=&field_market_value_jan072022_value=&page=3\n",
            "https://www.value.today/headquarters/india?title=&field_headquarters_of_company_target_id&field_company_category_primary_target_id&field_company_website_uri=&field_market_value_jan072022_value=&page=4\n",
            "https://www.value.today/headquarters/india?title=&field_headquarters_of_company_target_id&field_company_category_primary_target_id&field_company_website_uri=&field_market_value_jan072022_value=&page=5\n",
            "https://www.value.today/headquarters/india?title=&field_headquarters_of_company_target_id&field_company_category_primary_target_id&field_company_website_uri=&field_market_value_jan072022_value=&page=6\n",
            "https://www.value.today/headquarters/india?title=&field_headquarters_of_company_target_id&field_company_category_primary_target_id&field_company_website_uri=&field_market_value_jan072022_value=&page=7\n",
            "https://www.value.today/headquarters/india?title=&field_headquarters_of_company_target_id&field_company_category_primary_target_id&field_company_website_uri=&field_market_value_jan072022_value=&page=8\n",
            "https://www.value.today/headquarters/india?title=&field_headquarters_of_company_target_id&field_company_category_primary_target_id&field_company_website_uri=&field_market_value_jan072022_value=&page=9\n"
          ]
        }
      ]
    },
    {
      "cell_type": "code",
      "source": [
        "\"https://www.value.today/headquarters/india?title=&field_headquarters_of_company_target_id&field_company_category_primary_target_id&field_company_website_uri=&field_market_value_jan072022_value=&page=99\""
      ],
      "metadata": {
        "id": "Qz6IVzAxBV1z"
      },
      "execution_count": null,
      "outputs": []
    },
    {
      "cell_type": "code",
      "source": [
        "last=soup.find_all(\"li\",class_=\"pager__item pager__item--next\")"
      ],
      "metadata": {
        "id": "WVlAu1rs6C8F"
      },
      "execution_count": 184,
      "outputs": []
    },
    {
      "cell_type": "code",
      "source": [
        "last"
      ],
      "metadata": {
        "colab": {
          "base_uri": "https://localhost:8080/",
          "height": 35
        },
        "id": "VRn8oqQzA1u3",
        "outputId": "983ad22f-981a-4b67-a96b-c78bccd3b4ea"
      },
      "execution_count": 170,
      "outputs": [
        {
          "output_type": "execute_result",
          "data": {
            "text/plain": [
              "'Next page\\nNext ›'"
            ],
            "application/vnd.google.colaboratory.intrinsic+json": {
              "type": "string"
            }
          },
          "metadata": {},
          "execution_count": 170
        }
      ]
    },
    {
      "cell_type": "code",
      "source": [
        "a=soup.find_all(\"li\", {\"class\": \"pager__item pager__item--next\"})"
      ],
      "metadata": {
        "id": "sfH-5qeADFej"
      },
      "execution_count": 195,
      "outputs": []
    },
    {
      "cell_type": "code",
      "source": [],
      "metadata": {
        "colab": {
          "base_uri": "https://localhost:8080/"
        },
        "id": "k-AwDvo5DH7l",
        "outputId": "8ed3e038-4746-4d9c-bb38-8d7e00f514b5"
      },
      "execution_count": 197,
      "outputs": [
        {
          "output_type": "execute_result",
          "data": {
            "text/plain": [
              "[]"
            ]
          },
          "metadata": {},
          "execution_count": 197
        }
      ]
    },
    {
      "cell_type": "code",
      "source": [
        "if soup.find_all(\"li\", {\"class\": \"pager__item pager__item--next\"}):\n",
        "    print(\"Tag Found\")\n",
        "else:\n",
        "  print(\"Tag not found\")"
      ],
      "metadata": {
        "colab": {
          "base_uri": "https://localhost:8080/"
        },
        "id": "_MXGsB0jCMq0",
        "outputId": "789073dc-4d74-4bd2-eed9-602a529bd8cd"
      },
      "execution_count": 194,
      "outputs": [
        {
          "output_type": "stream",
          "name": "stdout",
          "text": [
            "Tag not found\n"
          ]
        }
      ]
    },
    {
      "cell_type": "markdown",
      "source": [
        "# get url"
      ],
      "metadata": {
        "id": "vWLRT9SeFSt1"
      }
    },
    {
      "cell_type": "code",
      "source": [
        "i=90\n",
        "response=requests.get(f\"https://www.value.today/headquarters/india?title=&field_headquarters_of_company_target_id&field_company_category_primary_target_id&field_company_website_uri=&field_market_value_jan072022_value=&page={i}\")\n",
        "page_content=response.text\n",
        "soup=BeautifulSoup(page_content,\"html.parser\")\n",
        "while i != 0:\n",
        "  if soup.find_all(\"li\", {\"class\": \"pager__item pager__item--next\"}):\n",
        "    response=requests.get(f\"https://www.value.today/headquarters/india?title=&field_headquarters_of_company_target_id&field_company_category_primary_target_id&field_company_website_uri=&field_market_value_jan072022_value=&page={i}\")\n",
        "    page_content=response.text\n",
        "    soup=BeautifulSoup(page_content,\"html.parser\")\n",
        "\n",
        "    print(f\"https://www.value.today/headquarters/india?title=&field_headquarters_of_company_target_id&field_company_category_primary_target_id&field_company_website_uri=&field_market_value_jan072022_value=&page={i}\")\n",
        "    i+=1\n",
        "  else:\n",
        "    i = 0\n"
      ],
      "metadata": {
        "colab": {
          "base_uri": "https://localhost:8080/"
        },
        "id": "i4629x1cDQUy",
        "outputId": "bcc53d7c-2bd5-40a9-a7e5-0c8e8345fc0b"
      },
      "execution_count": 211,
      "outputs": [
        {
          "output_type": "stream",
          "name": "stdout",
          "text": [
            "https://www.value.today/headquarters/india?title=&field_headquarters_of_company_target_id&field_company_category_primary_target_id&field_company_website_uri=&field_market_value_jan072022_value=&page=90\n",
            "https://www.value.today/headquarters/india?title=&field_headquarters_of_company_target_id&field_company_category_primary_target_id&field_company_website_uri=&field_market_value_jan072022_value=&page=91\n",
            "https://www.value.today/headquarters/india?title=&field_headquarters_of_company_target_id&field_company_category_primary_target_id&field_company_website_uri=&field_market_value_jan072022_value=&page=92\n",
            "https://www.value.today/headquarters/india?title=&field_headquarters_of_company_target_id&field_company_category_primary_target_id&field_company_website_uri=&field_market_value_jan072022_value=&page=93\n",
            "https://www.value.today/headquarters/india?title=&field_headquarters_of_company_target_id&field_company_category_primary_target_id&field_company_website_uri=&field_market_value_jan072022_value=&page=94\n",
            "https://www.value.today/headquarters/india?title=&field_headquarters_of_company_target_id&field_company_category_primary_target_id&field_company_website_uri=&field_market_value_jan072022_value=&page=95\n",
            "https://www.value.today/headquarters/india?title=&field_headquarters_of_company_target_id&field_company_category_primary_target_id&field_company_website_uri=&field_market_value_jan072022_value=&page=96\n",
            "https://www.value.today/headquarters/india?title=&field_headquarters_of_company_target_id&field_company_category_primary_target_id&field_company_website_uri=&field_market_value_jan072022_value=&page=97\n",
            "https://www.value.today/headquarters/india?title=&field_headquarters_of_company_target_id&field_company_category_primary_target_id&field_company_website_uri=&field_market_value_jan072022_value=&page=98\n",
            "https://www.value.today/headquarters/india?title=&field_headquarters_of_company_target_id&field_company_category_primary_target_id&field_company_website_uri=&field_market_value_jan072022_value=&page=99\n"
          ]
        }
      ]
    },
    {
      "cell_type": "code",
      "source": [],
      "metadata": {
        "id": "trA5rgdiBQbH"
      },
      "execution_count": null,
      "outputs": []
    }
  ]
}