{
  "nbformat": 4,
  "nbformat_minor": 0,
  "metadata": {
    "colab": {
      "provenance": [],
      "authorship_tag": "ABX9TyNZqIKTmUguHSzNXuEN+vob",
      "include_colab_link": true
    },
    "kernelspec": {
      "name": "python3",
      "display_name": "Python 3"
    },
    "language_info": {
      "name": "python"
    }
  },
  "cells": [
    {
      "cell_type": "markdown",
      "metadata": {
        "id": "view-in-github",
        "colab_type": "text"
      },
      "source": [
        "<a href=\"https://colab.research.google.com/github/abhikashyap/projects/blob/main/web_scrapping_imdb.ipynb\" target=\"_parent\"><img src=\"https://colab.research.google.com/assets/colab-badge.svg\" alt=\"Open In Colab\"/></a>"
      ]
    },
    {
      "cell_type": "markdown",
      "source": [
        "# Installing request modules and bs4\n"
      ],
      "metadata": {
        "id": "jXtOlOqXEDRd"
      }
    },
    {
      "cell_type": "code",
      "execution_count": null,
      "metadata": {
        "id": "hNGgs8zhDKi5"
      },
      "outputs": [],
      "source": [
        "pip install requests --quiet"
      ]
    },
    {
      "cell_type": "code",
      "source": [
        "pip install bs4 --quiet"
      ],
      "metadata": {
        "id": "0aIAgb8LEPZc"
      },
      "execution_count": null,
      "outputs": []
    },
    {
      "cell_type": "markdown",
      "source": [
        "importing modules"
      ],
      "metadata": {
        "id": "99Whd9H7EXya"
      }
    },
    {
      "cell_type": "code",
      "source": [
        "from bs4 import BeautifulSoup\n",
        "import requests , openpyxl"
      ],
      "metadata": {
        "id": "jybgHq3MDtgT"
      },
      "execution_count": 70,
      "outputs": []
    },
    {
      "cell_type": "markdown",
      "source": [
        "## creating and loading data to excel"
      ],
      "metadata": {
        "id": "0AbgbbFUnSAp"
      }
    },
    {
      "cell_type": "code",
      "source": [
        "excel = openpyxl.Workbook()\n",
        "sheet = excel.active\n",
        "sheet.title =\"imdb top 250 movies\"\n",
        "sheet.append([\"rank\",\"name\",\"year_of_release\",\"rating\"])"
      ],
      "metadata": {
        "id": "CZOLrusAnQ7c"
      },
      "execution_count": 84,
      "outputs": []
    },
    {
      "cell_type": "code",
      "source": [
        "source = requests.get(\"https://www.imdb.com/chart/top/?ref_=nv_mv_250\")\n",
        "soup = BeautifulSoup(source.text,\"html.parser\")\n",
        "\n",
        "movies  = soup.find('tbody', class_ = 'lister-list').find_all('tr')\n",
        "for movie in movies:\n",
        "  name = movie.find('td', class_ = 'titleColumn').a.text\n",
        "  rank = movie.find('td', class_ = 'titleColumn').text.strip().split(\".\")[0]\n",
        "  year = movie.find('td', class_ = 'titleColumn').span.text.strip(\"()\")\n",
        "  rating = movie.find('td', class_ = 'ratingColumn imdbRating').strong.text\n",
        "  sheet.append([rank,name,year,rating]) \n",
        "excel.save(\"top_250_imdb_movies.xlsx\")"
      ],
      "metadata": {
        "id": "ypJIAMwpEhTl"
      },
      "execution_count": 85,
      "outputs": []
    },
    {
      "cell_type": "code",
      "source": [],
      "metadata": {
        "id": "diUYg_8MF3Ne"
      },
      "execution_count": null,
      "outputs": []
    }
  ]
}